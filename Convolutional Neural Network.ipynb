{
 "cells": [
  {
   "cell_type": "code",
   "execution_count": 23,
   "metadata": {},
   "outputs": [],
   "source": [
    "import os\n",
    "import h5py\n",
    "import numpy as np\n",
    "import tensorflow as tf\n",
    "import matplotlib.pyplot as plt\n",
    "import seaborn as sns\n",
    "import math\n",
    "from sklearn.metrics import confusion_matrix\n",
    "%matplotlib inline\n",
    "plt.rcParams['figure.figsize'] = (10, 10) # Set default figure size"
   ]
  },
  {
   "cell_type": "code",
   "execution_count": 2,
   "metadata": {},
   "outputs": [
    {
     "name": "stdout",
     "output_type": "stream",
     "text": [
      "Training set (100000, 32, 32, 1) (100000, 10)\n",
      "Test set (10000, 32, 32, 1) (10000, 10)\n"
     ]
    }
   ],
   "source": [
    "# Open the file as readonly\n",
    "h5f = h5py.File('SVHN_ready.h5', 'r')\n",
    "\n",
    "# Load the training, test and validation set\n",
    "X_trx_gray = h5f['X_trx_gray'][:]\n",
    "X_te_gray = h5f['X_te_gray'][:]\n",
    "tr_im = h5f['tr_im'][:]\n",
    "y_trx_oh = h5f['y_trx_oh'][:]\n",
    "te_im = h5f['te_im'][:]\n",
    "y_te_oh = h5f['y_te_oh'][:]\n",
    "# Close this file\n",
    "h5f.close()\n",
    "\n",
    "print('Training set', tr_im.shape, y_trx_oh.shape)\n",
    "print('Test set', te_im.shape, y_te_oh.shape)"
   ]
  },
  {
   "cell_type": "code",
   "execution_count": 3,
   "metadata": {},
   "outputs": [],
   "source": [
    "#Define a tensor as placeholders to feed values later\n",
    "x = tf.placeholder(tf.float32, [None, 32, 32, 1])\n",
    "y_ = tf.placeholder(tf.float32, [None,10])\n",
    "y_cls = tf.argmax(y_, 1)\n"
   ]
  },
  {
   "cell_type": "code",
   "execution_count": 4,
   "metadata": {},
   "outputs": [],
   "source": [
    "def weight_variable(shape):\n",
    "    initial = tf.truncated_normal(shape, stddev=0.1)\n",
    "    return tf.Variable(initial)\n",
    "\n",
    "def fc_weight_variable(shape):\n",
    "    n_in=8*8*64\n",
    "    initial = tf.truncated_normal(shape, stddev=1/math.sqrt(n_in))\n",
    "    return tf.Variable(initial)\n",
    "\n",
    "def bias_variable(shape):\n",
    "    initial = tf.constant(0.1, shape=shape)\n",
    "    return tf.Variable(initial)\n"
   ]
  },
  {
   "cell_type": "code",
   "execution_count": 5,
   "metadata": {},
   "outputs": [],
   "source": [
    "def conv2d(x, W):\n",
    "  return tf.nn.conv2d(x, W, strides=[1, 1, 1, 1], padding='SAME')\n",
    "\n",
    "def max_pool_2x2(x):\n",
    "  return tf.nn.max_pool(x, ksize=[1, 2, 2, 1],\n",
    "                        strides=[1, 2, 2, 1], padding='SAME')"
   ]
  },
  {
   "cell_type": "markdown",
   "metadata": {},
   "source": [
    "## First Convolutional Layer"
   ]
  },
  {
   "cell_type": "code",
   "execution_count": 6,
   "metadata": {},
   "outputs": [],
   "source": [
    "W_conv1 = weight_variable([5, 5, 1, 32])\n",
    "b_conv1 = bias_variable([32])"
   ]
  },
  {
   "cell_type": "code",
   "execution_count": 7,
   "metadata": {},
   "outputs": [],
   "source": [
    "x_image = tf.reshape(x, [-1,32,32,1])"
   ]
  },
  {
   "cell_type": "code",
   "execution_count": 8,
   "metadata": {},
   "outputs": [],
   "source": [
    "h_conv1 = tf.nn.relu(conv2d(x_image, W_conv1) + b_conv1)\n",
    "h_pool1 = max_pool_2x2(h_conv1)"
   ]
  },
  {
   "cell_type": "markdown",
   "metadata": {},
   "source": [
    "## Second Convolutional Layer"
   ]
  },
  {
   "cell_type": "code",
   "execution_count": 9,
   "metadata": {},
   "outputs": [],
   "source": [
    "W_conv2 = weight_variable([5, 5, 32, 64])\n",
    "b_conv2 = bias_variable([64])"
   ]
  },
  {
   "cell_type": "code",
   "execution_count": 10,
   "metadata": {},
   "outputs": [],
   "source": [
    "h_conv2 = tf.nn.relu(conv2d(h_pool1, W_conv2) + b_conv2)\n",
    "h_pool2 = max_pool_2x2(h_conv2)"
   ]
  },
  {
   "cell_type": "markdown",
   "metadata": {},
   "source": [
    "## Dense layer"
   ]
  },
  {
   "cell_type": "code",
   "execution_count": 11,
   "metadata": {},
   "outputs": [],
   "source": [
    "W_fc1 = fc_weight_variable([8 * 8 * 64, 1024])\n",
    "b_fc1 = bias_variable([1024])\n",
    "\n",
    "h_pool2_flat = tf.reshape(h_pool2, [-1, 8*8*64])\n",
    "h_fc1 = tf.nn.relu(tf.matmul(h_pool2_flat, W_fc1) + b_fc1)"
   ]
  },
  {
   "cell_type": "markdown",
   "metadata": {},
   "source": [
    "## Dropout layer"
   ]
  },
  {
   "cell_type": "code",
   "execution_count": 12,
   "metadata": {},
   "outputs": [],
   "source": [
    "keep_prob = tf.placeholder(tf.float32)\n",
    "h_fc1_drop = tf.nn.dropout(h_fc1, rate = 1 - keep_prob)"
   ]
  },
  {
   "cell_type": "code",
   "execution_count": 13,
   "metadata": {},
   "outputs": [],
   "source": [
    "W_fc2 = weight_variable([1024, 10])\n",
    "b_fc2 = bias_variable([10])\n",
    "\n",
    "y_conv=tf.nn.softmax(tf.matmul(h_fc1_drop, W_fc2) + b_fc2)"
   ]
  },
  {
   "cell_type": "markdown",
   "metadata": {},
   "source": [
    "## Training"
   ]
  },
  {
   "cell_type": "code",
   "execution_count": 14,
   "metadata": {},
   "outputs": [],
   "source": [
    "cross_entropy = tf.reduce_mean(-tf.reduce_sum(y_ * tf.log(y_conv), reduction_indices=[1]))\n",
    "train_step = tf.train.AdamOptimizer().minimize(cross_entropy)\n",
    "correct_prediction = tf.equal(tf.argmax(y_conv,1), tf.argmax(y_,1))\n",
    "accuracy = tf.reduce_mean(tf.cast(correct_prediction, tf.float32))"
   ]
  },
  {
   "cell_type": "code",
   "execution_count": 15,
   "metadata": {},
   "outputs": [],
   "source": [
    "def get_batch(img, lbl, batch_size):\n",
    "    for i in np.arange(0, lbl.shape[0], batch_size):\n",
    "        end = min(img.shape[0], i + batch_size)\n",
    "        yield(img[i:end],lbl[i:end])"
   ]
  },
  {
   "cell_type": "code",
   "execution_count": 16,
   "metadata": {},
   "outputs": [
    {
     "name": "stdout",
     "output_type": "stream",
     "text": [
      "Step: 0 ..... \n",
      "Mini-Batch Loss   :  2.8637638\n",
      "Mini-Batch Accuracy : 12.037037312984467 %\n",
      "Step: 150 ..... \n",
      "Mini-Batch Loss   :  1.3110399\n",
      "Mini-Batch Accuracy : 55.55555820465088 %\n",
      "Step: 300 ..... \n",
      "Mini-Batch Loss   :  0.514483\n",
      "Mini-Batch Accuracy : 84.72222089767456 %\n",
      "Step: 450 ..... \n",
      "Mini-Batch Loss   :  0.3130799\n",
      "Mini-Batch Accuracy : 90.27777910232544 %\n",
      "Step: 0 ..... \n",
      "Mini-Batch Loss   :  0.67816234\n",
      "Mini-Batch Accuracy : 80.55555820465088 %\n",
      "Step: 150 ..... \n",
      "Mini-Batch Loss   :  0.5594757\n",
      "Mini-Batch Accuracy : 83.79629850387573 %\n",
      "Step: 300 ..... \n",
      "Mini-Batch Loss   :  0.3066916\n",
      "Mini-Batch Accuracy : 90.74074029922485 %\n",
      "Step: 450 ..... \n",
      "Mini-Batch Loss   :  0.20333894\n",
      "Mini-Batch Accuracy : 95.37037014961243 %\n",
      "Step: 0 ..... \n",
      "Mini-Batch Loss   :  0.52014196\n",
      "Mini-Batch Accuracy : 85.64814925193787 %\n",
      "Step: 150 ..... \n",
      "Mini-Batch Loss   :  0.42366627\n",
      "Mini-Batch Accuracy : 87.03703880310059 %\n",
      "Step: 300 ..... \n",
      "Mini-Batch Loss   :  0.23503278\n",
      "Mini-Batch Accuracy : 93.05555820465088 %\n",
      "Step: 450 ..... \n",
      "Mini-Batch Loss   :  0.13652751\n",
      "Mini-Batch Accuracy : 97.22222089767456 %\n",
      "Step: 0 ..... \n",
      "Mini-Batch Loss   :  0.42198488\n",
      "Mini-Batch Accuracy : 87.96296119689941 %\n",
      "Step: 150 ..... \n",
      "Mini-Batch Loss   :  0.39119014\n",
      "Mini-Batch Accuracy : 86.11111044883728 %\n",
      "Step: 300 ..... \n",
      "Mini-Batch Loss   :  0.2337619\n",
      "Mini-Batch Accuracy : 92.59259104728699 %\n",
      "Step: 450 ..... \n",
      "Mini-Batch Loss   :  0.1400829\n",
      "Mini-Batch Accuracy : 95.37037014961243 %\n",
      "Step: 0 ..... \n",
      "Mini-Batch Loss   :  0.38830906\n",
      "Mini-Batch Accuracy : 87.03703880310059 %\n",
      "Step: 150 ..... \n",
      "Mini-Batch Loss   :  0.3716507\n",
      "Mini-Batch Accuracy : 87.5 %\n",
      "Step: 300 ..... \n",
      "Mini-Batch Loss   :  0.22141826\n",
      "Mini-Batch Accuracy : 93.05555820465088 %\n",
      "Step: 450 ..... \n",
      "Mini-Batch Loss   :  0.11309312\n",
      "Mini-Batch Accuracy : 98.14814925193787 %\n"
     ]
    }
   ],
   "source": [
    "#train the neural network , run 500 epochs\n",
    "sess = tf.Session()\n",
    "sess.run(tf.global_variables_initializer())\n",
    "train_loss = []\n",
    "for i in range(5):\n",
    "    step = 0   \n",
    "    for (epoch_x , epoch_y) in get_batch(tr_im, y_trx_oh, 216):\n",
    "        _, train_accu, c = sess.run([train_step, accuracy, cross_entropy], feed_dict={x: epoch_x, y_: epoch_y, keep_prob: 0.4})\n",
    "        train_loss.append(c) \n",
    "        if(step%150 == 0):\n",
    "            print (\"Step:\", step, \".....\", \"\\nMini-Batch Loss   : \", c)\n",
    "            print('Mini-Batch Accuracy :' , train_accu*100.0, '%')\n",
    "        step = step + 1       "
   ]
  },
  {
   "cell_type": "code",
   "execution_count": 17,
   "metadata": {},
   "outputs": [
    {
     "name": "stdout",
     "output_type": "stream",
     "text": [
      "testing accuracy : 89.60999846458435 %\n"
     ]
    }
   ],
   "source": [
    "test_accu= sess.run(accuracy, feed_dict={x: te_im, y_: y_te_oh, keep_prob: 1})\n",
    "\n",
    "print('testing accuracy :' , test_accu*100.0, '%')"
   ]
  },
  {
   "cell_type": "code",
   "execution_count": 18,
   "metadata": {},
   "outputs": [
    {
     "data": {
      "text/plain": [
       "[<matplotlib.lines.Line2D at 0x182fe8d30>]"
      ]
     },
     "execution_count": 18,
     "metadata": {},
     "output_type": "execute_result"
    },
    {
     "data": {
      "image/png": "[encoded data removed]",
      "text/plain": [
       "<Figure size 432x288 with 1 Axes>"
      ]
     },
     "metadata": {
      "needs_background": "light"
     },
     "output_type": "display_data"
    }
   ],
   "source": [
    "plt.plot(train_loss ,'r')"
   ]
  },
  {
   "cell_type": "code",
   "execution_count": 19,
   "metadata": {},
   "outputs": [
    {
     "data": {
      "image/png": "[encoded data removed]",
      "text/plain": [
       "<Figure size 432x288 with 5 Axes>"
      ]
     },
     "metadata": {
      "needs_background": "light"
     },
     "output_type": "display_data"
    }
   ],
   "source": [
    "#To evaluate the model, Pick 5 random images from test dataset\n",
    "sample_indexes = [0,700,2490,7000,9]\n",
    "sample_images = [te_im[i] for i in sample_indexes]\n",
    "sample_labels = [y_te_oh[i] for i in sample_indexes]\n",
    "#predict the label, feed the sample images\n",
    "pred = sess.run(tf.argmax(y_conv, 1), feed_dict={x: sample_images,keep_prob: 1})\n",
    "predicted=np.squeeze(pred)                     \n",
    "\n",
    "# Display the predictions and the actual label.\n",
    "for i in range(len(sample_images)):\n",
    "    truth = sample_labels[i]\n",
    "    prediction = predicted[i]\n",
    "    plt.subplot(5,1,1+i)\n",
    "    plt.axis('off')\n",
    "    color='green' if np.argmax(truth) == prediction else 'red'\n",
    "    plt.text(40, 10, \"Truth:        {0}\\nPrediction: {1}\".format(np.argmax(truth), prediction), \n",
    "             fontsize=12, color=color)\n",
    "    plt.imshow(X_te_gray[sample_indexes[i]],  cmap=\"gray\")\n",
    "\n",
    "plt.show()"
   ]
  },
  {
   "cell_type": "code",
   "execution_count": 21,
   "metadata": {},
   "outputs": [
    {
     "name": "stdout",
     "output_type": "stream",
     "text": [
      "[2 1 0 ... 7 9 1]\n",
      "[2 1 0 ... 7 9 9]\n"
     ]
    }
   ],
   "source": [
    "pred = sess.run(tf.argmax(y_conv, 1), feed_dict={x: te_im,keep_prob: 1})\n",
    "print(pred)\n",
    "print(np.argmax(y_te_oh,1))"
   ]
  },
  {
   "cell_type": "code",
   "execution_count": 50,
   "metadata": {},
   "outputs": [
    {
     "data": {
      "image/png": "[encoded data removed]",
      "text/plain": [
       "<Figure size 1008x576 with 2 Axes>"
      ]
     },
     "metadata": {
      "needs_background": "light"
     },
     "output_type": "display_data"
    }
   ],
   "source": [
    "\n",
    "plt.figure(figsize=(14, 8))\n",
    "cm=confusion_matrix(np.argmax(y_te_oh,1), pred)\n",
    "cm = cm.astype('float') / cm.sum(axis=1)[:, np.newaxis]*100\n",
    "sns.heatmap(cm, annot=True, fmt='.1f', square=True);"
   ]
  },
  {
   "cell_type": "code",
   "execution_count": null,
   "metadata": {},
   "outputs": [],
   "source": []
  }
 ],
 "metadata": {
  "kernelspec": {
   "display_name": "Python 3",
   "language": "python",
   "name": "python3"
  },
  "language_info": {
   "codemirror_mode": {
    "name": "ipython",
    "version": 3
   },
   "file_extension": ".py",
   "mimetype": "text/x-python",
   "name": "python",
   "nbconvert_exporter": "python",
   "pygments_lexer": "ipython3",
   "version": "3.9.5"
  }
 },
 "nbformat": 4,
 "nbformat_minor": 2
}
