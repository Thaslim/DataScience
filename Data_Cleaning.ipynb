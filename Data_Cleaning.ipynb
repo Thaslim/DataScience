{
 "cells": [
  {
   "cell_type": "code",
   "execution_count": 1,
   "metadata": {
    "colab": {
     "base_uri": "https://localhost:8080/",
     "height": 40,
     "resources": {
      "http://localhost:8080/nbextensions/google.colab/files.js": {
       "data": "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",
       "headers": [
        [
         "content-type",
         "application/javascript"
        ]
       ],
       "ok": true,
       "status": 200,
       "status_text": ""
      }
     }
    },
    "colab_type": "code",
    "id": "iP8FW4Nfpj48",
    "outputId": "3e032f2e-67dc-4653-e041-c1d969d33f71"
   },
   "outputs": [
    {
     "data": {
      "text/html": [
       "\n",
       "     <input type=\"file\" id=\"files-94656b54-dc17-4b84-b5c5-02bfdbc82595\" name=\"files[]\" multiple disabled />\n",
       "     <output id=\"result-94656b54-dc17-4b84-b5c5-02bfdbc82595\">\n",
       "      Upload widget is only available when the cell has been executed in the\n",
       "      current browser session. Please rerun this cell to enable.\n",
       "      </output>\n",
       "      <script src=\"/nbextensions/google.colab/files.js\"></script> "
      ],
      "text/plain": [
       "<IPython.core.display.HTML object>"
      ]
     },
     "metadata": {
      "tags": []
     },
     "output_type": "display_data"
    }
   ],
   "source": [
    "#upload file from local\n",
    "from google.colab import files\n",
    "uploaded = files.upload()"
   ]
  },
  {
   "cell_type": "code",
   "execution_count": 0,
   "metadata": {
    "colab": {},
    "colab_type": "code",
    "id": "iRg6_lIup0pN"
   },
   "outputs": [],
   "source": [
    "import numpy as np\n",
    "import pandas as pd\n",
    "import random"
   ]
  },
  {
   "cell_type": "markdown",
   "metadata": {
    "colab_type": "text",
    "id": "FV92gKdIU_kn"
   },
   "source": [
    "**1. estimated-article-influence-scores-2015.csv**"
   ]
  },
  {
   "cell_type": "code",
   "execution_count": 3,
   "metadata": {
    "colab": {
     "base_uri": "https://localhost:8080/",
     "height": 419
    },
    "colab_type": "code",
    "id": "yjMj2EHSqIcA",
    "outputId": "7726eebe-75d4-4dd2-9ae6-9874acae0e1c"
   },
   "outputs": [
    {
     "data": {
      "text/html": [
       "<div>\n",
       "<style scoped>\n",
       "    .dataframe tbody tr th:only-of-type {\n",
       "        vertical-align: middle;\n",
       "    }\n",
       "\n",
       "    .dataframe tbody tr th {\n",
       "        vertical-align: top;\n",
       "    }\n",
       "\n",
       "    .dataframe thead th {\n",
       "        text-align: right;\n",
       "    }\n",
       "</style>\n",
       "<table border=\"1\" class=\"dataframe\">\n",
       "  <thead>\n",
       "    <tr style=\"text-align: right;\">\n",
       "      <th></th>\n",
       "      <th>Unnamed: 0</th>\n",
       "      <th>journal_name</th>\n",
       "      <th>issn</th>\n",
       "      <th>citation_count_sum</th>\n",
       "      <th>paper_count_sum</th>\n",
       "      <th>avg_cites_per_paper</th>\n",
       "      <th>proj_ai</th>\n",
       "      <th>proj_ai_year</th>\n",
       "    </tr>\n",
       "  </thead>\n",
       "  <tbody>\n",
       "    <tr>\n",
       "      <th>0</th>\n",
       "      <td>0</td>\n",
       "      <td>3d research</td>\n",
       "      <td>2092-6731</td>\n",
       "      <td>151.0</td>\n",
       "      <td>106.0</td>\n",
       "      <td>1.424528</td>\n",
       "      <td>0.290</td>\n",
       "      <td>2015</td>\n",
       "    </tr>\n",
       "    <tr>\n",
       "      <th>1</th>\n",
       "      <td>1</td>\n",
       "      <td>aaps pharmscitech</td>\n",
       "      <td>1530-9932</td>\n",
       "      <td>2208.0</td>\n",
       "      <td>801.0</td>\n",
       "      <td>2.756554</td>\n",
       "      <td>0.665</td>\n",
       "      <td>2015</td>\n",
       "    </tr>\n",
       "    <tr>\n",
       "      <th>2</th>\n",
       "      <td>2</td>\n",
       "      <td>abstract and applied analysis</td>\n",
       "      <td>1687-0409</td>\n",
       "      <td>3005.0</td>\n",
       "      <td>2923.0</td>\n",
       "      <td>1.028053</td>\n",
       "      <td>0.192</td>\n",
       "      <td>2015</td>\n",
       "    </tr>\n",
       "    <tr>\n",
       "      <th>3</th>\n",
       "      <td>3</td>\n",
       "      <td>academic psychiatry</td>\n",
       "      <td>1545-7230</td>\n",
       "      <td>537.0</td>\n",
       "      <td>490.0</td>\n",
       "      <td>1.095918</td>\n",
       "      <td>0.208</td>\n",
       "      <td>2015</td>\n",
       "    </tr>\n",
       "    <tr>\n",
       "      <th>4</th>\n",
       "      <td>4</td>\n",
       "      <td>academic questions</td>\n",
       "      <td>1936-4709</td>\n",
       "      <td>40.0</td>\n",
       "      <td>67.0</td>\n",
       "      <td>0.597015</td>\n",
       "      <td>0.097</td>\n",
       "      <td>2015</td>\n",
       "    </tr>\n",
       "    <tr>\n",
       "      <th>...</th>\n",
       "      <td>...</td>\n",
       "      <td>...</td>\n",
       "      <td>...</td>\n",
       "      <td>...</td>\n",
       "      <td>...</td>\n",
       "      <td>...</td>\n",
       "      <td>...</td>\n",
       "      <td>...</td>\n",
       "    </tr>\n",
       "    <tr>\n",
       "      <th>3610</th>\n",
       "      <td>3655</td>\n",
       "      <td>zoologica poloniae</td>\n",
       "      <td>2083-6112</td>\n",
       "      <td>0.0</td>\n",
       "      <td>10.0</td>\n",
       "      <td>0.000000</td>\n",
       "      <td>0.000</td>\n",
       "      <td>2015</td>\n",
       "    </tr>\n",
       "    <tr>\n",
       "      <th>3611</th>\n",
       "      <td>3656</td>\n",
       "      <td>zoological studies</td>\n",
       "      <td>1021-5506</td>\n",
       "      <td>381.0</td>\n",
       "      <td>290.0</td>\n",
       "      <td>1.313793</td>\n",
       "      <td>0.262</td>\n",
       "      <td>2015</td>\n",
       "    </tr>\n",
       "    <tr>\n",
       "      <th>3612</th>\n",
       "      <td>3657</td>\n",
       "      <td>zoology</td>\n",
       "      <td>0944-2006</td>\n",
       "      <td>472.0</td>\n",
       "      <td>221.0</td>\n",
       "      <td>2.135747</td>\n",
       "      <td>0.483</td>\n",
       "      <td>2015</td>\n",
       "    </tr>\n",
       "    <tr>\n",
       "      <th>3613</th>\n",
       "      <td>3658</td>\n",
       "      <td>zoomorphology</td>\n",
       "      <td>1432-234X</td>\n",
       "      <td>191.0</td>\n",
       "      <td>125.0</td>\n",
       "      <td>1.528000</td>\n",
       "      <td>0.317</td>\n",
       "      <td>2015</td>\n",
       "    </tr>\n",
       "    <tr>\n",
       "      <th>3614</th>\n",
       "      <td>3659</td>\n",
       "      <td>zoosystema</td>\n",
       "      <td>1280-9551</td>\n",
       "      <td>100.0</td>\n",
       "      <td>121.0</td>\n",
       "      <td>0.826446</td>\n",
       "      <td>0.146</td>\n",
       "      <td>2015</td>\n",
       "    </tr>\n",
       "  </tbody>\n",
       "</table>\n",
       "<p>3615 rows × 8 columns</p>\n",
       "</div>"
      ],
      "text/plain": [
       "      Unnamed: 0                   journal_name  ... proj_ai  proj_ai_year\n",
       "0              0                    3d research  ...   0.290          2015\n",
       "1              1              aaps pharmscitech  ...   0.665          2015\n",
       "2              2  abstract and applied analysis  ...   0.192          2015\n",
       "3              3            academic psychiatry  ...   0.208          2015\n",
       "4              4             academic questions  ...   0.097          2015\n",
       "...          ...                            ...  ...     ...           ...\n",
       "3610        3655             zoologica poloniae  ...   0.000          2015\n",
       "3611        3656             zoological studies  ...   0.262          2015\n",
       "3612        3657                        zoology  ...   0.483          2015\n",
       "3613        3658                  zoomorphology  ...   0.317          2015\n",
       "3614        3659                     zoosystema  ...   0.146          2015\n",
       "\n",
       "[3615 rows x 8 columns]"
      ]
     },
     "execution_count": 3,
     "metadata": {
      "tags": []
     },
     "output_type": "execute_result"
    }
   ],
   "source": [
    "#create a pandas data frame\n",
    "df = pd.read_csv('estimated-article-influence-scores-2015.csv')\n",
    "df"
   ]
  },
  {
   "cell_type": "markdown",
   "metadata": {
    "colab_type": "text",
    "id": "AejZqEEtnjTN"
   },
   "source": [
    "1.\n",
    "From the above observation, a column name is missing and we can infer from the values that the column represents Item"
   ]
  },
  {
   "cell_type": "code",
   "execution_count": 0,
   "metadata": {
    "colab": {},
    "colab_type": "code",
    "id": "ElvJOmvUshdT"
   },
   "outputs": [],
   "source": [
    "#Rename the unnamed column name\n",
    "df.rename(columns={'Unnamed: 0':'Item_id'}, inplace=True )"
   ]
  },
  {
   "cell_type": "code",
   "execution_count": 5,
   "metadata": {
    "colab": {
     "base_uri": "https://localhost:8080/",
     "height": 204
    },
    "colab_type": "code",
    "id": "nThFWwzwqJRH",
    "outputId": "d733f4cd-f6eb-45d7-8ead-a9877bf64693"
   },
   "outputs": [
    {
     "data": {
      "text/html": [
       "<div>\n",
       "<style scoped>\n",
       "    .dataframe tbody tr th:only-of-type {\n",
       "        vertical-align: middle;\n",
       "    }\n",
       "\n",
       "    .dataframe tbody tr th {\n",
       "        vertical-align: top;\n",
       "    }\n",
       "\n",
       "    .dataframe thead th {\n",
       "        text-align: right;\n",
       "    }\n",
       "</style>\n",
       "<table border=\"1\" class=\"dataframe\">\n",
       "  <thead>\n",
       "    <tr style=\"text-align: right;\">\n",
       "      <th></th>\n",
       "      <th>Item_id</th>\n",
       "      <th>journal_name</th>\n",
       "      <th>issn</th>\n",
       "      <th>citation_count_sum</th>\n",
       "      <th>paper_count_sum</th>\n",
       "      <th>avg_cites_per_paper</th>\n",
       "      <th>proj_ai</th>\n",
       "      <th>proj_ai_year</th>\n",
       "    </tr>\n",
       "  </thead>\n",
       "  <tbody>\n",
       "    <tr>\n",
       "      <th>0</th>\n",
       "      <td>0</td>\n",
       "      <td>3d research</td>\n",
       "      <td>2092-6731</td>\n",
       "      <td>151.0</td>\n",
       "      <td>106.0</td>\n",
       "      <td>1.424528</td>\n",
       "      <td>0.290</td>\n",
       "      <td>2015</td>\n",
       "    </tr>\n",
       "    <tr>\n",
       "      <th>1</th>\n",
       "      <td>1</td>\n",
       "      <td>aaps pharmscitech</td>\n",
       "      <td>1530-9932</td>\n",
       "      <td>2208.0</td>\n",
       "      <td>801.0</td>\n",
       "      <td>2.756554</td>\n",
       "      <td>0.665</td>\n",
       "      <td>2015</td>\n",
       "    </tr>\n",
       "    <tr>\n",
       "      <th>2</th>\n",
       "      <td>2</td>\n",
       "      <td>abstract and applied analysis</td>\n",
       "      <td>1687-0409</td>\n",
       "      <td>3005.0</td>\n",
       "      <td>2923.0</td>\n",
       "      <td>1.028053</td>\n",
       "      <td>0.192</td>\n",
       "      <td>2015</td>\n",
       "    </tr>\n",
       "    <tr>\n",
       "      <th>3</th>\n",
       "      <td>3</td>\n",
       "      <td>academic psychiatry</td>\n",
       "      <td>1545-7230</td>\n",
       "      <td>537.0</td>\n",
       "      <td>490.0</td>\n",
       "      <td>1.095918</td>\n",
       "      <td>0.208</td>\n",
       "      <td>2015</td>\n",
       "    </tr>\n",
       "    <tr>\n",
       "      <th>4</th>\n",
       "      <td>4</td>\n",
       "      <td>academic questions</td>\n",
       "      <td>1936-4709</td>\n",
       "      <td>40.0</td>\n",
       "      <td>67.0</td>\n",
       "      <td>0.597015</td>\n",
       "      <td>0.097</td>\n",
       "      <td>2015</td>\n",
       "    </tr>\n",
       "  </tbody>\n",
       "</table>\n",
       "</div>"
      ],
      "text/plain": [
       "   Item_id                   journal_name  ... proj_ai  proj_ai_year\n",
       "0        0                    3d research  ...   0.290          2015\n",
       "1        1              aaps pharmscitech  ...   0.665          2015\n",
       "2        2  abstract and applied analysis  ...   0.192          2015\n",
       "3        3            academic psychiatry  ...   0.208          2015\n",
       "4        4             academic questions  ...   0.097          2015\n",
       "\n",
       "[5 rows x 8 columns]"
      ]
     },
     "execution_count": 5,
     "metadata": {
      "tags": []
     },
     "output_type": "execute_result"
    }
   ],
   "source": [
    "df.head()"
   ]
  },
  {
   "cell_type": "markdown",
   "metadata": {
    "colab_type": "text",
    "id": "ceygk8x7o_d2"
   },
   "source": [
    "2.Check all the column name and their datatypes"
   ]
  },
  {
   "cell_type": "code",
   "execution_count": 6,
   "metadata": {
    "colab": {
     "base_uri": "https://localhost:8080/",
     "height": 238
    },
    "colab_type": "code",
    "id": "3ALR3GAR6MWQ",
    "outputId": "d042d7fb-a747-4d27-9f60-2f4d1469db8a"
   },
   "outputs": [
    {
     "name": "stdout",
     "output_type": "stream",
     "text": [
      "<class 'pandas.core.frame.DataFrame'>\n",
      "RangeIndex: 3615 entries, 0 to 3614\n",
      "Data columns (total 8 columns):\n",
      "Item_id                3615 non-null int64\n",
      "journal_name           3615 non-null object\n",
      "issn                   3615 non-null object\n",
      "citation_count_sum     3603 non-null float64\n",
      "paper_count_sum        3603 non-null float64\n",
      "avg_cites_per_paper    3603 non-null float64\n",
      "proj_ai                3603 non-null float64\n",
      "proj_ai_year           3615 non-null int64\n",
      "dtypes: float64(4), int64(2), object(2)\n",
      "memory usage: 226.1+ KB\n"
     ]
    }
   ],
   "source": [
    "df.info()"
   ]
  },
  {
   "cell_type": "markdown",
   "metadata": {
    "colab_type": "text",
    "id": "gDg8FJa1pOEf"
   },
   "source": [
    "3.Check for duplicates and incorrect format"
   ]
  },
  {
   "cell_type": "code",
   "execution_count": 0,
   "metadata": {
    "colab": {},
    "colab_type": "code",
    "id": "n8NaxDBU3FM7"
   },
   "outputs": [],
   "source": [
    "#Delete all those rows which has incorrect issn format\n",
    "indexNames = df[df['issn'].str.match('[0-9]{4}-[0-9]{4}')==False].index\n",
    " \n",
    "# Delete these row indexes from dataFrame\n",
    "df.drop(indexNames , inplace=True)"
   ]
  },
  {
   "cell_type": "code",
   "execution_count": 0,
   "metadata": {
    "colab": {},
    "colab_type": "code",
    "id": "u0JIBkpVek_o"
   },
   "outputs": [],
   "source": [
    "# dropping ALL duplicte values \n",
    "df.drop_duplicates(subset =\"issn\", inplace = True) "
   ]
  },
  {
   "cell_type": "code",
   "execution_count": 0,
   "metadata": {
    "colab": {},
    "colab_type": "code",
    "id": "0orawXFx4rLw"
   },
   "outputs": [],
   "source": [
    "#Reset index after all the cleanup\n",
    "final_df = df.reset_index(drop=True)"
   ]
  },
  {
   "cell_type": "code",
   "execution_count": 10,
   "metadata": {
    "colab": {
     "base_uri": "https://localhost:8080/",
     "height": 419
    },
    "colab_type": "code",
    "id": "Nyx4zxqae4rR",
    "outputId": "5f0e8af8-42b5-4ccc-b134-3bb5454c8dd8"
   },
   "outputs": [
    {
     "data": {
      "text/html": [
       "<div>\n",
       "<style scoped>\n",
       "    .dataframe tbody tr th:only-of-type {\n",
       "        vertical-align: middle;\n",
       "    }\n",
       "\n",
       "    .dataframe tbody tr th {\n",
       "        vertical-align: top;\n",
       "    }\n",
       "\n",
       "    .dataframe thead th {\n",
       "        text-align: right;\n",
       "    }\n",
       "</style>\n",
       "<table border=\"1\" class=\"dataframe\">\n",
       "  <thead>\n",
       "    <tr style=\"text-align: right;\">\n",
       "      <th></th>\n",
       "      <th>Item_id</th>\n",
       "      <th>journal_name</th>\n",
       "      <th>issn</th>\n",
       "      <th>citation_count_sum</th>\n",
       "      <th>paper_count_sum</th>\n",
       "      <th>avg_cites_per_paper</th>\n",
       "      <th>proj_ai</th>\n",
       "      <th>proj_ai_year</th>\n",
       "    </tr>\n",
       "  </thead>\n",
       "  <tbody>\n",
       "    <tr>\n",
       "      <th>0</th>\n",
       "      <td>0</td>\n",
       "      <td>3d research</td>\n",
       "      <td>2092-6731</td>\n",
       "      <td>151.0</td>\n",
       "      <td>106.0</td>\n",
       "      <td>1.424528</td>\n",
       "      <td>0.290</td>\n",
       "      <td>2015</td>\n",
       "    </tr>\n",
       "    <tr>\n",
       "      <th>1</th>\n",
       "      <td>1</td>\n",
       "      <td>aaps pharmscitech</td>\n",
       "      <td>1530-9932</td>\n",
       "      <td>2208.0</td>\n",
       "      <td>801.0</td>\n",
       "      <td>2.756554</td>\n",
       "      <td>0.665</td>\n",
       "      <td>2015</td>\n",
       "    </tr>\n",
       "    <tr>\n",
       "      <th>2</th>\n",
       "      <td>2</td>\n",
       "      <td>abstract and applied analysis</td>\n",
       "      <td>1687-0409</td>\n",
       "      <td>3005.0</td>\n",
       "      <td>2923.0</td>\n",
       "      <td>1.028053</td>\n",
       "      <td>0.192</td>\n",
       "      <td>2015</td>\n",
       "    </tr>\n",
       "    <tr>\n",
       "      <th>3</th>\n",
       "      <td>3</td>\n",
       "      <td>academic psychiatry</td>\n",
       "      <td>1545-7230</td>\n",
       "      <td>537.0</td>\n",
       "      <td>490.0</td>\n",
       "      <td>1.095918</td>\n",
       "      <td>0.208</td>\n",
       "      <td>2015</td>\n",
       "    </tr>\n",
       "    <tr>\n",
       "      <th>4</th>\n",
       "      <td>4</td>\n",
       "      <td>academic questions</td>\n",
       "      <td>1936-4709</td>\n",
       "      <td>40.0</td>\n",
       "      <td>67.0</td>\n",
       "      <td>0.597015</td>\n",
       "      <td>0.097</td>\n",
       "      <td>2015</td>\n",
       "    </tr>\n",
       "    <tr>\n",
       "      <th>...</th>\n",
       "      <td>...</td>\n",
       "      <td>...</td>\n",
       "      <td>...</td>\n",
       "      <td>...</td>\n",
       "      <td>...</td>\n",
       "      <td>...</td>\n",
       "      <td>...</td>\n",
       "      <td>...</td>\n",
       "    </tr>\n",
       "    <tr>\n",
       "      <th>3252</th>\n",
       "      <td>3654</td>\n",
       "      <td>zoologia</td>\n",
       "      <td>1984-4689</td>\n",
       "      <td>159.0</td>\n",
       "      <td>144.0</td>\n",
       "      <td>1.104167</td>\n",
       "      <td>0.210</td>\n",
       "      <td>2015</td>\n",
       "    </tr>\n",
       "    <tr>\n",
       "      <th>3253</th>\n",
       "      <td>3655</td>\n",
       "      <td>zoologica poloniae</td>\n",
       "      <td>2083-6112</td>\n",
       "      <td>0.0</td>\n",
       "      <td>10.0</td>\n",
       "      <td>0.000000</td>\n",
       "      <td>0.000</td>\n",
       "      <td>2015</td>\n",
       "    </tr>\n",
       "    <tr>\n",
       "      <th>3254</th>\n",
       "      <td>3656</td>\n",
       "      <td>zoological studies</td>\n",
       "      <td>1021-5506</td>\n",
       "      <td>381.0</td>\n",
       "      <td>290.0</td>\n",
       "      <td>1.313793</td>\n",
       "      <td>0.262</td>\n",
       "      <td>2015</td>\n",
       "    </tr>\n",
       "    <tr>\n",
       "      <th>3255</th>\n",
       "      <td>3657</td>\n",
       "      <td>zoology</td>\n",
       "      <td>0944-2006</td>\n",
       "      <td>472.0</td>\n",
       "      <td>221.0</td>\n",
       "      <td>2.135747</td>\n",
       "      <td>0.483</td>\n",
       "      <td>2015</td>\n",
       "    </tr>\n",
       "    <tr>\n",
       "      <th>3256</th>\n",
       "      <td>3659</td>\n",
       "      <td>zoosystema</td>\n",
       "      <td>1280-9551</td>\n",
       "      <td>100.0</td>\n",
       "      <td>121.0</td>\n",
       "      <td>0.826446</td>\n",
       "      <td>0.146</td>\n",
       "      <td>2015</td>\n",
       "    </tr>\n",
       "  </tbody>\n",
       "</table>\n",
       "<p>3257 rows × 8 columns</p>\n",
       "</div>"
      ],
      "text/plain": [
       "      Item_id                   journal_name  ... proj_ai  proj_ai_year\n",
       "0           0                    3d research  ...   0.290          2015\n",
       "1           1              aaps pharmscitech  ...   0.665          2015\n",
       "2           2  abstract and applied analysis  ...   0.192          2015\n",
       "3           3            academic psychiatry  ...   0.208          2015\n",
       "4           4             academic questions  ...   0.097          2015\n",
       "...       ...                            ...  ...     ...           ...\n",
       "3252     3654                       zoologia  ...   0.210          2015\n",
       "3253     3655             zoologica poloniae  ...   0.000          2015\n",
       "3254     3656             zoological studies  ...   0.262          2015\n",
       "3255     3657                        zoology  ...   0.483          2015\n",
       "3256     3659                     zoosystema  ...   0.146          2015\n",
       "\n",
       "[3257 rows x 8 columns]"
      ]
     },
     "execution_count": 10,
     "metadata": {
      "tags": []
     },
     "output_type": "execute_result"
    }
   ],
   "source": [
    "final_df"
   ]
  },
  {
   "cell_type": "markdown",
   "metadata": {
    "colab_type": "text",
    "id": "duN4IcawqW5a"
   },
   "source": [
    "4.Fill missing values with corresponding values"
   ]
  },
  {
   "cell_type": "code",
   "execution_count": 11,
   "metadata": {
    "colab": {
     "base_uri": "https://localhost:8080/",
     "height": 170
    },
    "colab_type": "code",
    "id": "tEZziTS7BsNY",
    "outputId": "d4887c8b-63cf-4ad4-ba38-7c15a665b892"
   },
   "outputs": [
    {
     "data": {
      "text/plain": [
       "Item_id                 0\n",
       "journal_name            0\n",
       "issn                    0\n",
       "citation_count_sum     12\n",
       "paper_count_sum        12\n",
       "avg_cites_per_paper    12\n",
       "proj_ai                12\n",
       "proj_ai_year            0\n",
       "dtype: int64"
      ]
     },
     "execution_count": 11,
     "metadata": {
      "tags": []
     },
     "output_type": "execute_result"
    }
   ],
   "source": [
    "#Verify there is no more null values\n",
    "final_df.isna().sum()"
   ]
  },
  {
   "cell_type": "code",
   "execution_count": 0,
   "metadata": {
    "colab": {},
    "colab_type": "code",
    "id": "Oy9cMPHp_PLJ"
   },
   "outputs": [],
   "source": [
    "#create a dictionary for filling missing values\n",
    "#1.citation_count_sum to be filled with median value(because mean could result in floating values)\n",
    "#2.paper_count_sum to be filled with median value(because mean could result in floating values)\n",
    "#3.proj_ai to be filled with mean value\n",
    "values = {'citation_count_sum': final_df.loc[:,'citation_count_sum'].median(), 'paper_count_sum': final_df.loc[:,'paper_count_sum'].median(),'proj_ai':final_df.loc[:,'proj_ai'].mean()}"
   ]
  },
  {
   "cell_type": "code",
   "execution_count": 0,
   "metadata": {
    "colab": {},
    "colab_type": "code",
    "id": "pw0ymaEoBpH1"
   },
   "outputs": [],
   "source": [
    "final_df = final_df.fillna(value=values)"
   ]
  },
  {
   "cell_type": "code",
   "execution_count": 0,
   "metadata": {
    "colab": {},
    "colab_type": "code",
    "id": "vYc8pLuhpiSz"
   },
   "outputs": [],
   "source": [
    "#4.avg_cites_per_paper to be filled with citation_count_sum/paper_count_sum\n",
    "final_df = final_df.fillna(value={'avg_cites_per_paper':final_df['citation_count_sum']/final_df['paper_count_sum']})"
   ]
  },
  {
   "cell_type": "code",
   "execution_count": 15,
   "metadata": {
    "colab": {
     "base_uri": "https://localhost:8080/",
     "height": 170
    },
    "colab_type": "code",
    "id": "j4bd-J5Q-uOJ",
    "outputId": "2c6999d2-6341-4e12-f9b7-287268dde3b2"
   },
   "outputs": [
    {
     "data": {
      "text/plain": [
       "Item_id                0\n",
       "journal_name           0\n",
       "issn                   0\n",
       "citation_count_sum     0\n",
       "paper_count_sum        0\n",
       "avg_cites_per_paper    0\n",
       "proj_ai                0\n",
       "proj_ai_year           0\n",
       "dtype: int64"
      ]
     },
     "execution_count": 15,
     "metadata": {
      "tags": []
     },
     "output_type": "execute_result"
    }
   ],
   "source": [
    "final_df.isna().sum()"
   ]
  },
  {
   "cell_type": "markdown",
   "metadata": {
    "colab_type": "text",
    "id": "HjfATAU4r-VQ"
   },
   "source": [
    "5.Change datatype of citation count and paper count to int"
   ]
  },
  {
   "cell_type": "code",
   "execution_count": 0,
   "metadata": {
    "colab": {},
    "colab_type": "code",
    "id": "nF9Hs7bjsKBG"
   },
   "outputs": [],
   "source": [
    "#Change the data type of license and influence id to integer since ids can't be float\n",
    "final_df[['citation_count_sum','paper_count_sum']]=final_df[['citation_count_sum','paper_count_sum']].astype(int)"
   ]
  },
  {
   "cell_type": "code",
   "execution_count": 17,
   "metadata": {
    "colab": {
     "base_uri": "https://localhost:8080/",
     "height": 419
    },
    "colab_type": "code",
    "id": "5edYNNj-tO0y",
    "outputId": "921cd1a5-ba9f-4d17-dd75-ca40147c54af"
   },
   "outputs": [
    {
     "data": {
      "text/html": [
       "<div>\n",
       "<style scoped>\n",
       "    .dataframe tbody tr th:only-of-type {\n",
       "        vertical-align: middle;\n",
       "    }\n",
       "\n",
       "    .dataframe tbody tr th {\n",
       "        vertical-align: top;\n",
       "    }\n",
       "\n",
       "    .dataframe thead th {\n",
       "        text-align: right;\n",
       "    }\n",
       "</style>\n",
       "<table border=\"1\" class=\"dataframe\">\n",
       "  <thead>\n",
       "    <tr style=\"text-align: right;\">\n",
       "      <th></th>\n",
       "      <th>Item_id</th>\n",
       "      <th>journal_name</th>\n",
       "      <th>issn</th>\n",
       "      <th>citation_count_sum</th>\n",
       "      <th>paper_count_sum</th>\n",
       "      <th>avg_cites_per_paper</th>\n",
       "      <th>proj_ai</th>\n",
       "      <th>proj_ai_year</th>\n",
       "    </tr>\n",
       "  </thead>\n",
       "  <tbody>\n",
       "    <tr>\n",
       "      <th>0</th>\n",
       "      <td>0</td>\n",
       "      <td>3d research</td>\n",
       "      <td>2092-6731</td>\n",
       "      <td>151</td>\n",
       "      <td>106</td>\n",
       "      <td>1.424528</td>\n",
       "      <td>0.290</td>\n",
       "      <td>2015</td>\n",
       "    </tr>\n",
       "    <tr>\n",
       "      <th>1</th>\n",
       "      <td>1</td>\n",
       "      <td>aaps pharmscitech</td>\n",
       "      <td>1530-9932</td>\n",
       "      <td>2208</td>\n",
       "      <td>801</td>\n",
       "      <td>2.756554</td>\n",
       "      <td>0.665</td>\n",
       "      <td>2015</td>\n",
       "    </tr>\n",
       "    <tr>\n",
       "      <th>2</th>\n",
       "      <td>2</td>\n",
       "      <td>abstract and applied analysis</td>\n",
       "      <td>1687-0409</td>\n",
       "      <td>3005</td>\n",
       "      <td>2923</td>\n",
       "      <td>1.028053</td>\n",
       "      <td>0.192</td>\n",
       "      <td>2015</td>\n",
       "    </tr>\n",
       "    <tr>\n",
       "      <th>3</th>\n",
       "      <td>3</td>\n",
       "      <td>academic psychiatry</td>\n",
       "      <td>1545-7230</td>\n",
       "      <td>537</td>\n",
       "      <td>490</td>\n",
       "      <td>1.095918</td>\n",
       "      <td>0.208</td>\n",
       "      <td>2015</td>\n",
       "    </tr>\n",
       "    <tr>\n",
       "      <th>4</th>\n",
       "      <td>4</td>\n",
       "      <td>academic questions</td>\n",
       "      <td>1936-4709</td>\n",
       "      <td>40</td>\n",
       "      <td>67</td>\n",
       "      <td>0.597015</td>\n",
       "      <td>0.097</td>\n",
       "      <td>2015</td>\n",
       "    </tr>\n",
       "    <tr>\n",
       "      <th>...</th>\n",
       "      <td>...</td>\n",
       "      <td>...</td>\n",
       "      <td>...</td>\n",
       "      <td>...</td>\n",
       "      <td>...</td>\n",
       "      <td>...</td>\n",
       "      <td>...</td>\n",
       "      <td>...</td>\n",
       "    </tr>\n",
       "    <tr>\n",
       "      <th>3252</th>\n",
       "      <td>3654</td>\n",
       "      <td>zoologia</td>\n",
       "      <td>1984-4689</td>\n",
       "      <td>159</td>\n",
       "      <td>144</td>\n",
       "      <td>1.104167</td>\n",
       "      <td>0.210</td>\n",
       "      <td>2015</td>\n",
       "    </tr>\n",
       "    <tr>\n",
       "      <th>3253</th>\n",
       "      <td>3655</td>\n",
       "      <td>zoologica poloniae</td>\n",
       "      <td>2083-6112</td>\n",
       "      <td>0</td>\n",
       "      <td>10</td>\n",
       "      <td>0.000000</td>\n",
       "      <td>0.000</td>\n",
       "      <td>2015</td>\n",
       "    </tr>\n",
       "    <tr>\n",
       "      <th>3254</th>\n",
       "      <td>3656</td>\n",
       "      <td>zoological studies</td>\n",
       "      <td>1021-5506</td>\n",
       "      <td>381</td>\n",
       "      <td>290</td>\n",
       "      <td>1.313793</td>\n",
       "      <td>0.262</td>\n",
       "      <td>2015</td>\n",
       "    </tr>\n",
       "    <tr>\n",
       "      <th>3255</th>\n",
       "      <td>3657</td>\n",
       "      <td>zoology</td>\n",
       "      <td>0944-2006</td>\n",
       "      <td>472</td>\n",
       "      <td>221</td>\n",
       "      <td>2.135747</td>\n",
       "      <td>0.483</td>\n",
       "      <td>2015</td>\n",
       "    </tr>\n",
       "    <tr>\n",
       "      <th>3256</th>\n",
       "      <td>3659</td>\n",
       "      <td>zoosystema</td>\n",
       "      <td>1280-9551</td>\n",
       "      <td>100</td>\n",
       "      <td>121</td>\n",
       "      <td>0.826446</td>\n",
       "      <td>0.146</td>\n",
       "      <td>2015</td>\n",
       "    </tr>\n",
       "  </tbody>\n",
       "</table>\n",
       "<p>3257 rows × 8 columns</p>\n",
       "</div>"
      ],
      "text/plain": [
       "      Item_id                   journal_name  ... proj_ai  proj_ai_year\n",
       "0           0                    3d research  ...   0.290          2015\n",
       "1           1              aaps pharmscitech  ...   0.665          2015\n",
       "2           2  abstract and applied analysis  ...   0.192          2015\n",
       "3           3            academic psychiatry  ...   0.208          2015\n",
       "4           4             academic questions  ...   0.097          2015\n",
       "...       ...                            ...  ...     ...           ...\n",
       "3252     3654                       zoologia  ...   0.210          2015\n",
       "3253     3655             zoologica poloniae  ...   0.000          2015\n",
       "3254     3656             zoological studies  ...   0.262          2015\n",
       "3255     3657                        zoology  ...   0.483          2015\n",
       "3256     3659                     zoosystema  ...   0.146          2015\n",
       "\n",
       "[3257 rows x 8 columns]"
      ]
     },
     "execution_count": 17,
     "metadata": {
      "tags": []
     },
     "output_type": "execute_result"
    }
   ],
   "source": [
    "final_df"
   ]
  },
  {
   "cell_type": "code",
   "execution_count": 0,
   "metadata": {
    "colab": {},
    "colab_type": "code",
    "id": "rUQh9Ks8xKUE"
   },
   "outputs": [],
   "source": [
    "#round avg_cites_per_paper to 2 decimal points\n",
    "final_df = final_df.round({\"avg_cites_per_paper\":2})"
   ]
  },
  {
   "cell_type": "code",
   "execution_count": 19,
   "metadata": {
    "colab": {
     "base_uri": "https://localhost:8080/",
     "height": 419
    },
    "colab_type": "code",
    "id": "AHpoDnB-ydZo",
    "outputId": "045cea0b-0a41-4ac6-c8dd-9b1bfe3b9e30"
   },
   "outputs": [
    {
     "data": {
      "text/html": [
       "<div>\n",
       "<style scoped>\n",
       "    .dataframe tbody tr th:only-of-type {\n",
       "        vertical-align: middle;\n",
       "    }\n",
       "\n",
       "    .dataframe tbody tr th {\n",
       "        vertical-align: top;\n",
       "    }\n",
       "\n",
       "    .dataframe thead th {\n",
       "        text-align: right;\n",
       "    }\n",
       "</style>\n",
       "<table border=\"1\" class=\"dataframe\">\n",
       "  <thead>\n",
       "    <tr style=\"text-align: right;\">\n",
       "      <th></th>\n",
       "      <th>Item_id</th>\n",
       "      <th>journal_name</th>\n",
       "      <th>issn</th>\n",
       "      <th>citation_count_sum</th>\n",
       "      <th>paper_count_sum</th>\n",
       "      <th>avg_cites_per_paper</th>\n",
       "      <th>proj_ai</th>\n",
       "      <th>proj_ai_year</th>\n",
       "    </tr>\n",
       "  </thead>\n",
       "  <tbody>\n",
       "    <tr>\n",
       "      <th>0</th>\n",
       "      <td>0</td>\n",
       "      <td>3d research</td>\n",
       "      <td>2092-6731</td>\n",
       "      <td>151</td>\n",
       "      <td>106</td>\n",
       "      <td>1.42</td>\n",
       "      <td>0.290</td>\n",
       "      <td>2015</td>\n",
       "    </tr>\n",
       "    <tr>\n",
       "      <th>1</th>\n",
       "      <td>1</td>\n",
       "      <td>aaps pharmscitech</td>\n",
       "      <td>1530-9932</td>\n",
       "      <td>2208</td>\n",
       "      <td>801</td>\n",
       "      <td>2.76</td>\n",
       "      <td>0.665</td>\n",
       "      <td>2015</td>\n",
       "    </tr>\n",
       "    <tr>\n",
       "      <th>2</th>\n",
       "      <td>2</td>\n",
       "      <td>abstract and applied analysis</td>\n",
       "      <td>1687-0409</td>\n",
       "      <td>3005</td>\n",
       "      <td>2923</td>\n",
       "      <td>1.03</td>\n",
       "      <td>0.192</td>\n",
       "      <td>2015</td>\n",
       "    </tr>\n",
       "    <tr>\n",
       "      <th>3</th>\n",
       "      <td>3</td>\n",
       "      <td>academic psychiatry</td>\n",
       "      <td>1545-7230</td>\n",
       "      <td>537</td>\n",
       "      <td>490</td>\n",
       "      <td>1.10</td>\n",
       "      <td>0.208</td>\n",
       "      <td>2015</td>\n",
       "    </tr>\n",
       "    <tr>\n",
       "      <th>4</th>\n",
       "      <td>4</td>\n",
       "      <td>academic questions</td>\n",
       "      <td>1936-4709</td>\n",
       "      <td>40</td>\n",
       "      <td>67</td>\n",
       "      <td>0.60</td>\n",
       "      <td>0.097</td>\n",
       "      <td>2015</td>\n",
       "    </tr>\n",
       "    <tr>\n",
       "      <th>...</th>\n",
       "      <td>...</td>\n",
       "      <td>...</td>\n",
       "      <td>...</td>\n",
       "      <td>...</td>\n",
       "      <td>...</td>\n",
       "      <td>...</td>\n",
       "      <td>...</td>\n",
       "      <td>...</td>\n",
       "    </tr>\n",
       "    <tr>\n",
       "      <th>3252</th>\n",
       "      <td>3654</td>\n",
       "      <td>zoologia</td>\n",
       "      <td>1984-4689</td>\n",
       "      <td>159</td>\n",
       "      <td>144</td>\n",
       "      <td>1.10</td>\n",
       "      <td>0.210</td>\n",
       "      <td>2015</td>\n",
       "    </tr>\n",
       "    <tr>\n",
       "      <th>3253</th>\n",
       "      <td>3655</td>\n",
       "      <td>zoologica poloniae</td>\n",
       "      <td>2083-6112</td>\n",
       "      <td>0</td>\n",
       "      <td>10</td>\n",
       "      <td>0.00</td>\n",
       "      <td>0.000</td>\n",
       "      <td>2015</td>\n",
       "    </tr>\n",
       "    <tr>\n",
       "      <th>3254</th>\n",
       "      <td>3656</td>\n",
       "      <td>zoological studies</td>\n",
       "      <td>1021-5506</td>\n",
       "      <td>381</td>\n",
       "      <td>290</td>\n",
       "      <td>1.31</td>\n",
       "      <td>0.262</td>\n",
       "      <td>2015</td>\n",
       "    </tr>\n",
       "    <tr>\n",
       "      <th>3255</th>\n",
       "      <td>3657</td>\n",
       "      <td>zoology</td>\n",
       "      <td>0944-2006</td>\n",
       "      <td>472</td>\n",
       "      <td>221</td>\n",
       "      <td>2.14</td>\n",
       "      <td>0.483</td>\n",
       "      <td>2015</td>\n",
       "    </tr>\n",
       "    <tr>\n",
       "      <th>3256</th>\n",
       "      <td>3659</td>\n",
       "      <td>zoosystema</td>\n",
       "      <td>1280-9551</td>\n",
       "      <td>100</td>\n",
       "      <td>121</td>\n",
       "      <td>0.83</td>\n",
       "      <td>0.146</td>\n",
       "      <td>2015</td>\n",
       "    </tr>\n",
       "  </tbody>\n",
       "</table>\n",
       "<p>3257 rows × 8 columns</p>\n",
       "</div>"
      ],
      "text/plain": [
       "      Item_id                   journal_name  ... proj_ai  proj_ai_year\n",
       "0           0                    3d research  ...   0.290          2015\n",
       "1           1              aaps pharmscitech  ...   0.665          2015\n",
       "2           2  abstract and applied analysis  ...   0.192          2015\n",
       "3           3            academic psychiatry  ...   0.208          2015\n",
       "4           4             academic questions  ...   0.097          2015\n",
       "...       ...                            ...  ...     ...           ...\n",
       "3252     3654                       zoologia  ...   0.210          2015\n",
       "3253     3655             zoologica poloniae  ...   0.000          2015\n",
       "3254     3656             zoological studies  ...   0.262          2015\n",
       "3255     3657                        zoology  ...   0.483          2015\n",
       "3256     3659                     zoosystema  ...   0.146          2015\n",
       "\n",
       "[3257 rows x 8 columns]"
      ]
     },
     "execution_count": 19,
     "metadata": {
      "tags": []
     },
     "output_type": "execute_result"
    }
   ],
   "source": [
    "final_df"
   ]
  },
  {
   "cell_type": "markdown",
   "metadata": {
    "colab_type": "text",
    "id": "h1qNRm-mtFZ1"
   },
   "source": [
    "6.Check data quality by checking values of each column"
   ]
  },
  {
   "cell_type": "code",
   "execution_count": 20,
   "metadata": {
    "colab": {
     "base_uri": "https://localhost:8080/",
     "height": 34
    },
    "colab_type": "code",
    "id": "jaS1AjD2E3IV",
    "outputId": "5899f650-fc2a-4d23-ea2d-0795c38e9035"
   },
   "outputs": [
    {
     "data": {
      "text/plain": [
       "0"
      ]
     },
     "execution_count": 20,
     "metadata": {
      "tags": []
     },
     "output_type": "execute_result"
    }
   ],
   "source": [
    "#Check if there is any value in 'journal_name' that is not of type string\n",
    "(final_df['journal_name'].map(type) != str).sum()"
   ]
  },
  {
   "cell_type": "code",
   "execution_count": 21,
   "metadata": {
    "colab": {
     "base_uri": "https://localhost:8080/",
     "height": 51
    },
    "colab_type": "code",
    "id": "OXrwt_nxPTZm",
    "outputId": "e84bd5be-bebe-467e-ebca-e17563b65f0a"
   },
   "outputs": [
    {
     "name": "stdout",
     "output_type": "stream",
     "text": [
      "[2015]\n"
     ]
    },
    {
     "data": {
      "text/plain": [
       "0"
      ]
     },
     "execution_count": 21,
     "metadata": {
      "tags": []
     },
     "output_type": "execute_result"
    }
   ],
   "source": [
    "#Check if there is any value in 'proj_ai' that is not of type int\n",
    "print(final_df.proj_ai_year.unique())\n",
    "(final_df['proj_ai_year'].map(type) != int).sum()"
   ]
  },
  {
   "cell_type": "code",
   "execution_count": 0,
   "metadata": {
    "colab": {},
    "colab_type": "code",
    "id": "hTCqWbnwQVYl"
   },
   "outputs": [],
   "source": [
    "#Export cleaned csv file\n",
    "final_df.to_csv(\"Artical_influence_score_cleaned.csv\",index=False)  "
   ]
  },
  {
   "cell_type": "markdown",
   "metadata": {
    "colab_type": "text",
    "id": "6hJr6oKbUvEb"
   },
   "source": [
    "**2.Journals_out**"
   ]
  },
  {
   "cell_type": "code",
   "execution_count": 23,
   "metadata": {
    "colab": {
     "base_uri": "https://localhost:8080/",
     "height": 419
    },
    "colab_type": "code",
    "id": "-CVUQBo4X_z-",
    "outputId": "0558f274-a05f-4011-f582-6e4ebe6746d2"
   },
   "outputs": [
    {
     "data": {
      "text/html": [
       "<div>\n",
       "<style scoped>\n",
       "    .dataframe tbody tr th:only-of-type {\n",
       "        vertical-align: middle;\n",
       "    }\n",
       "\n",
       "    .dataframe tbody tr th {\n",
       "        vertical-align: top;\n",
       "    }\n",
       "\n",
       "    .dataframe thead th {\n",
       "        text-align: right;\n",
       "    }\n",
       "</style>\n",
       "<table border=\"1\" class=\"dataframe\">\n",
       "  <thead>\n",
       "    <tr style=\"text-align: right;\">\n",
       "      <th></th>\n",
       "      <th>issn</th>\n",
       "      <th>journal_name</th>\n",
       "      <th>pub_name</th>\n",
       "      <th>is_hybrid</th>\n",
       "      <th>category</th>\n",
       "      <th>url</th>\n",
       "    </tr>\n",
       "  </thead>\n",
       "  <tbody>\n",
       "    <tr>\n",
       "      <th>0</th>\n",
       "      <td>1654-9880</td>\n",
       "      <td>Global Health Action</td>\n",
       "      <td>Co-Action Publishing</td>\n",
       "      <td>0.0</td>\n",
       "      <td>Medicine</td>\n",
       "      <td>NaN</td>\n",
       "    </tr>\n",
       "    <tr>\n",
       "      <th>1</th>\n",
       "      <td>2278-9480</td>\n",
       "      <td>International Journal of Applied Research &amp; St...</td>\n",
       "      <td>NaN</td>\n",
       "      <td>0.0</td>\n",
       "      <td>NaN</td>\n",
       "      <td>NaN</td>\n",
       "    </tr>\n",
       "    <tr>\n",
       "      <th>2</th>\n",
       "      <td>1980-5918</td>\n",
       "      <td>Fisioterapia Em Movimento</td>\n",
       "      <td>Pontif�cia Universidade Cat�lica do Paran�</td>\n",
       "      <td>0.0</td>\n",
       "      <td>Medicine</td>\n",
       "      <td>http://www.pucpr.br/revfisio</td>\n",
       "    </tr>\n",
       "    <tr>\n",
       "      <th>3</th>\n",
       "      <td>1121-760X</td>\n",
       "      <td>European Journal of Histochemistry</td>\n",
       "      <td>NaN</td>\n",
       "      <td>0.0</td>\n",
       "      <td>NaN</td>\n",
       "      <td>NaN</td>\n",
       "    </tr>\n",
       "    <tr>\n",
       "      <th>4</th>\n",
       "      <td>2319-5754</td>\n",
       "      <td>Species</td>\n",
       "      <td>Discovery Publication</td>\n",
       "      <td>0.0</td>\n",
       "      <td>NaN</td>\n",
       "      <td>NaN</td>\n",
       "    </tr>\n",
       "    <tr>\n",
       "      <th>...</th>\n",
       "      <td>...</td>\n",
       "      <td>...</td>\n",
       "      <td>...</td>\n",
       "      <td>...</td>\n",
       "      <td>...</td>\n",
       "      <td>...</td>\n",
       "    </tr>\n",
       "    <tr>\n",
       "      <th>105491</th>\n",
       "      <td>0005-1098</td>\n",
       "      <td>Automatica</td>\n",
       "      <td>Elsevier</td>\n",
       "      <td>0.0</td>\n",
       "      <td>RoBOTiCS</td>\n",
       "      <td>NaN</td>\n",
       "    </tr>\n",
       "    <tr>\n",
       "      <th>105492</th>\n",
       "      <td>00102-0455</td>\n",
       "      <td>anthropologie58</td>\n",
       "      <td>NaN</td>\n",
       "      <td>0.0</td>\n",
       "      <td>NaN</td>\n",
       "      <td>NaN</td>\n",
       "    </tr>\n",
       "    <tr>\n",
       "      <th>105493</th>\n",
       "      <td>00102-0408</td>\n",
       "      <td>anthropologie11</td>\n",
       "      <td>NaN</td>\n",
       "      <td>0.0</td>\n",
       "      <td>NaN</td>\n",
       "      <td>NaN</td>\n",
       "    </tr>\n",
       "    <tr>\n",
       "      <th>105494</th>\n",
       "      <td>00102-0401</td>\n",
       "      <td>anthropologie4</td>\n",
       "      <td>NaN</td>\n",
       "      <td>0.0</td>\n",
       "      <td>NaN</td>\n",
       "      <td>NaN</td>\n",
       "    </tr>\n",
       "    <tr>\n",
       "      <th>105495</th>\n",
       "      <td>0005-1098</td>\n",
       "      <td>Automatica</td>\n",
       "      <td>Elsevier</td>\n",
       "      <td>0.0</td>\n",
       "      <td>RoBOTiCS</td>\n",
       "      <td>NaN</td>\n",
       "    </tr>\n",
       "  </tbody>\n",
       "</table>\n",
       "<p>105496 rows × 6 columns</p>\n",
       "</div>"
      ],
      "text/plain": [
       "              issn  ...                           url\n",
       "0        1654-9880  ...                           NaN\n",
       "1        2278-9480  ...                           NaN\n",
       "2        1980-5918  ...  http://www.pucpr.br/revfisio\n",
       "3        1121-760X  ...                           NaN\n",
       "4        2319-5754  ...                           NaN\n",
       "...            ...  ...                           ...\n",
       "105491   0005-1098  ...                           NaN\n",
       "105492  00102-0455  ...                           NaN\n",
       "105493  00102-0408  ...                           NaN\n",
       "105494  00102-0401  ...                           NaN\n",
       "105495   0005-1098  ...                           NaN\n",
       "\n",
       "[105496 rows x 6 columns]"
      ]
     },
     "execution_count": 23,
     "metadata": {
      "tags": []
     },
     "output_type": "execute_result"
    }
   ],
   "source": [
    "#create a pandas data frame\n",
    "df_journals = pd.read_csv('journals_out.csv')\n",
    "df_journals"
   ]
  },
  {
   "cell_type": "code",
   "execution_count": 24,
   "metadata": {
    "colab": {
     "base_uri": "https://localhost:8080/",
     "height": 204
    },
    "colab_type": "code",
    "id": "j1LadKtUdXnV",
    "outputId": "0ffb68fd-7dd9-476c-a900-c207eece40e4"
   },
   "outputs": [
    {
     "name": "stdout",
     "output_type": "stream",
     "text": [
      "<class 'pandas.core.frame.DataFrame'>\n",
      "RangeIndex: 105496 entries, 0 to 105495\n",
      "Data columns (total 6 columns):\n",
      "issn            105492 non-null object\n",
      "journal_name    105492 non-null object\n",
      "pub_name        93631 non-null object\n",
      "is_hybrid       105496 non-null float64\n",
      "category        54743 non-null object\n",
      "url             51095 non-null object\n",
      "dtypes: float64(1), object(5)\n",
      "memory usage: 4.8+ MB\n"
     ]
    }
   ],
   "source": [
    "df_journals.info()"
   ]
  },
  {
   "cell_type": "code",
   "execution_count": 0,
   "metadata": {
    "colab": {},
    "colab_type": "code",
    "id": "5XFpcNRI72XZ"
   },
   "outputs": [],
   "source": [
    "#Delete all those rows which has incorrect issn format\n",
    "incor = df_journals[df_journals['issn'].str.match('[0-9]{4}-[0-9]{4}')==False].index\n",
    " \n",
    "# Delete these row indexes from dataFrame\n",
    "df_journals.drop(incor , inplace=True)"
   ]
  },
  {
   "cell_type": "code",
   "execution_count": 26,
   "metadata": {
    "colab": {
     "base_uri": "https://localhost:8080/",
     "height": 419
    },
    "colab_type": "code",
    "id": "vpGDy2nD897O",
    "outputId": "3ca91d2c-8fe1-4eca-da40-253c14bf39fe"
   },
   "outputs": [
    {
     "data": {
      "text/html": [
       "<div>\n",
       "<style scoped>\n",
       "    .dataframe tbody tr th:only-of-type {\n",
       "        vertical-align: middle;\n",
       "    }\n",
       "\n",
       "    .dataframe tbody tr th {\n",
       "        vertical-align: top;\n",
       "    }\n",
       "\n",
       "    .dataframe thead th {\n",
       "        text-align: right;\n",
       "    }\n",
       "</style>\n",
       "<table border=\"1\" class=\"dataframe\">\n",
       "  <thead>\n",
       "    <tr style=\"text-align: right;\">\n",
       "      <th></th>\n",
       "      <th>issn</th>\n",
       "      <th>journal_name</th>\n",
       "      <th>pub_name</th>\n",
       "      <th>is_hybrid</th>\n",
       "      <th>category</th>\n",
       "      <th>url</th>\n",
       "    </tr>\n",
       "  </thead>\n",
       "  <tbody>\n",
       "    <tr>\n",
       "      <th>0</th>\n",
       "      <td>1654-9880</td>\n",
       "      <td>Global Health Action</td>\n",
       "      <td>Co-Action Publishing</td>\n",
       "      <td>0.0</td>\n",
       "      <td>Medicine</td>\n",
       "      <td>NaN</td>\n",
       "    </tr>\n",
       "    <tr>\n",
       "      <th>1</th>\n",
       "      <td>2278-9480</td>\n",
       "      <td>International Journal of Applied Research &amp; St...</td>\n",
       "      <td>NaN</td>\n",
       "      <td>0.0</td>\n",
       "      <td>NaN</td>\n",
       "      <td>NaN</td>\n",
       "    </tr>\n",
       "    <tr>\n",
       "      <th>2</th>\n",
       "      <td>1980-5918</td>\n",
       "      <td>Fisioterapia Em Movimento</td>\n",
       "      <td>Pontif�cia Universidade Cat�lica do Paran�</td>\n",
       "      <td>0.0</td>\n",
       "      <td>Medicine</td>\n",
       "      <td>http://www.pucpr.br/revfisio</td>\n",
       "    </tr>\n",
       "    <tr>\n",
       "      <th>4</th>\n",
       "      <td>2319-5754</td>\n",
       "      <td>Species</td>\n",
       "      <td>Discovery Publication</td>\n",
       "      <td>0.0</td>\n",
       "      <td>NaN</td>\n",
       "      <td>NaN</td>\n",
       "    </tr>\n",
       "    <tr>\n",
       "      <th>5</th>\n",
       "      <td>2195-0008</td>\n",
       "      <td>EPJ Nonlinear Biomedical Physics</td>\n",
       "      <td>EDP Sciences</td>\n",
       "      <td>0.0</td>\n",
       "      <td>Medicine</td>\n",
       "      <td>http://www.epj-nbp.org</td>\n",
       "    </tr>\n",
       "    <tr>\n",
       "      <th>...</th>\n",
       "      <td>...</td>\n",
       "      <td>...</td>\n",
       "      <td>...</td>\n",
       "      <td>...</td>\n",
       "      <td>...</td>\n",
       "      <td>...</td>\n",
       "    </tr>\n",
       "    <tr>\n",
       "      <th>105486</th>\n",
       "      <td>0005-1098</td>\n",
       "      <td>Automatica</td>\n",
       "      <td>Elsevier</td>\n",
       "      <td>0.0</td>\n",
       "      <td>RoBOTiCS</td>\n",
       "      <td>NaN</td>\n",
       "    </tr>\n",
       "    <tr>\n",
       "      <th>105489</th>\n",
       "      <td>0005-1098</td>\n",
       "      <td>Automatica</td>\n",
       "      <td>Elsevier</td>\n",
       "      <td>0.0</td>\n",
       "      <td>RoBOTiCS</td>\n",
       "      <td>NaN</td>\n",
       "    </tr>\n",
       "    <tr>\n",
       "      <th>105490</th>\n",
       "      <td>0005-1098</td>\n",
       "      <td>Automatica</td>\n",
       "      <td>Elsevier</td>\n",
       "      <td>0.0</td>\n",
       "      <td>RoBOTiCS</td>\n",
       "      <td>NaN</td>\n",
       "    </tr>\n",
       "    <tr>\n",
       "      <th>105491</th>\n",
       "      <td>0005-1098</td>\n",
       "      <td>Automatica</td>\n",
       "      <td>Elsevier</td>\n",
       "      <td>0.0</td>\n",
       "      <td>RoBOTiCS</td>\n",
       "      <td>NaN</td>\n",
       "    </tr>\n",
       "    <tr>\n",
       "      <th>105495</th>\n",
       "      <td>0005-1098</td>\n",
       "      <td>Automatica</td>\n",
       "      <td>Elsevier</td>\n",
       "      <td>0.0</td>\n",
       "      <td>RoBOTiCS</td>\n",
       "      <td>NaN</td>\n",
       "    </tr>\n",
       "  </tbody>\n",
       "</table>\n",
       "<p>95549 rows × 6 columns</p>\n",
       "</div>"
      ],
      "text/plain": [
       "             issn  ...                           url\n",
       "0       1654-9880  ...                           NaN\n",
       "1       2278-9480  ...                           NaN\n",
       "2       1980-5918  ...  http://www.pucpr.br/revfisio\n",
       "4       2319-5754  ...                           NaN\n",
       "5       2195-0008  ...        http://www.epj-nbp.org\n",
       "...           ...  ...                           ...\n",
       "105486  0005-1098  ...                           NaN\n",
       "105489  0005-1098  ...                           NaN\n",
       "105490  0005-1098  ...                           NaN\n",
       "105491  0005-1098  ...                           NaN\n",
       "105495  0005-1098  ...                           NaN\n",
       "\n",
       "[95549 rows x 6 columns]"
      ]
     },
     "execution_count": 26,
     "metadata": {
      "tags": []
     },
     "output_type": "execute_result"
    }
   ],
   "source": [
    "df_journals"
   ]
  },
  {
   "cell_type": "code",
   "execution_count": 0,
   "metadata": {
    "colab": {},
    "colab_type": "code",
    "id": "I4zh9BEKMNnZ"
   },
   "outputs": [],
   "source": [
    "#change all the values in url to lower case\n",
    "df_journals['url']= df_journals['url'].str.lower()"
   ]
  },
  {
   "cell_type": "code",
   "execution_count": 0,
   "metadata": {
    "colab": {},
    "colab_type": "code",
    "id": "1BpPY60NVTWp"
   },
   "outputs": [],
   "source": [
    "search = ('http','www')\n",
    "unwant = df_journals[df_journals['url'].str.startswith(search)==False].index"
   ]
  },
  {
   "cell_type": "code",
   "execution_count": 0,
   "metadata": {
    "colab": {},
    "colab_type": "code",
    "id": "1VHZR64UYFnS"
   },
   "outputs": [],
   "source": [
    "#Drp url that does not start with http or www\n",
    "df_journals.drop(unwant,inplace=True)"
   ]
  },
  {
   "cell_type": "code",
   "execution_count": 30,
   "metadata": {
    "colab": {
     "base_uri": "https://localhost:8080/",
     "height": 419
    },
    "colab_type": "code",
    "id": "zmDYHK4AhTsK",
    "outputId": "b47fa793-c5fc-4922-8edc-5bdf488e71c2"
   },
   "outputs": [
    {
     "data": {
      "text/html": [
       "<div>\n",
       "<style scoped>\n",
       "    .dataframe tbody tr th:only-of-type {\n",
       "        vertical-align: middle;\n",
       "    }\n",
       "\n",
       "    .dataframe tbody tr th {\n",
       "        vertical-align: top;\n",
       "    }\n",
       "\n",
       "    .dataframe thead th {\n",
       "        text-align: right;\n",
       "    }\n",
       "</style>\n",
       "<table border=\"1\" class=\"dataframe\">\n",
       "  <thead>\n",
       "    <tr style=\"text-align: right;\">\n",
       "      <th></th>\n",
       "      <th>issn</th>\n",
       "      <th>journal_name</th>\n",
       "      <th>pub_name</th>\n",
       "      <th>is_hybrid</th>\n",
       "      <th>category</th>\n",
       "      <th>url</th>\n",
       "    </tr>\n",
       "  </thead>\n",
       "  <tbody>\n",
       "    <tr>\n",
       "      <th>0</th>\n",
       "      <td>1654-9880</td>\n",
       "      <td>Global Health Action</td>\n",
       "      <td>Co-Action Publishing</td>\n",
       "      <td>0.0</td>\n",
       "      <td>Medicine</td>\n",
       "      <td>NaN</td>\n",
       "    </tr>\n",
       "    <tr>\n",
       "      <th>1</th>\n",
       "      <td>2278-9480</td>\n",
       "      <td>International Journal of Applied Research &amp; St...</td>\n",
       "      <td>NaN</td>\n",
       "      <td>0.0</td>\n",
       "      <td>NaN</td>\n",
       "      <td>NaN</td>\n",
       "    </tr>\n",
       "    <tr>\n",
       "      <th>2</th>\n",
       "      <td>1980-5918</td>\n",
       "      <td>Fisioterapia Em Movimento</td>\n",
       "      <td>Pontif�cia Universidade Cat�lica do Paran�</td>\n",
       "      <td>0.0</td>\n",
       "      <td>Medicine</td>\n",
       "      <td>http://www.pucpr.br/revfisio</td>\n",
       "    </tr>\n",
       "    <tr>\n",
       "      <th>4</th>\n",
       "      <td>2319-5754</td>\n",
       "      <td>Species</td>\n",
       "      <td>Discovery Publication</td>\n",
       "      <td>0.0</td>\n",
       "      <td>NaN</td>\n",
       "      <td>NaN</td>\n",
       "    </tr>\n",
       "    <tr>\n",
       "      <th>5</th>\n",
       "      <td>2195-0008</td>\n",
       "      <td>EPJ Nonlinear Biomedical Physics</td>\n",
       "      <td>EDP Sciences</td>\n",
       "      <td>0.0</td>\n",
       "      <td>Medicine</td>\n",
       "      <td>http://www.epj-nbp.org</td>\n",
       "    </tr>\n",
       "    <tr>\n",
       "      <th>...</th>\n",
       "      <td>...</td>\n",
       "      <td>...</td>\n",
       "      <td>...</td>\n",
       "      <td>...</td>\n",
       "      <td>...</td>\n",
       "      <td>...</td>\n",
       "    </tr>\n",
       "    <tr>\n",
       "      <th>105486</th>\n",
       "      <td>0005-1098</td>\n",
       "      <td>Automatica</td>\n",
       "      <td>Elsevier</td>\n",
       "      <td>0.0</td>\n",
       "      <td>RoBOTiCS</td>\n",
       "      <td>NaN</td>\n",
       "    </tr>\n",
       "    <tr>\n",
       "      <th>105489</th>\n",
       "      <td>0005-1098</td>\n",
       "      <td>Automatica</td>\n",
       "      <td>Elsevier</td>\n",
       "      <td>0.0</td>\n",
       "      <td>RoBOTiCS</td>\n",
       "      <td>NaN</td>\n",
       "    </tr>\n",
       "    <tr>\n",
       "      <th>105490</th>\n",
       "      <td>0005-1098</td>\n",
       "      <td>Automatica</td>\n",
       "      <td>Elsevier</td>\n",
       "      <td>0.0</td>\n",
       "      <td>RoBOTiCS</td>\n",
       "      <td>NaN</td>\n",
       "    </tr>\n",
       "    <tr>\n",
       "      <th>105491</th>\n",
       "      <td>0005-1098</td>\n",
       "      <td>Automatica</td>\n",
       "      <td>Elsevier</td>\n",
       "      <td>0.0</td>\n",
       "      <td>RoBOTiCS</td>\n",
       "      <td>NaN</td>\n",
       "    </tr>\n",
       "    <tr>\n",
       "      <th>105495</th>\n",
       "      <td>0005-1098</td>\n",
       "      <td>Automatica</td>\n",
       "      <td>Elsevier</td>\n",
       "      <td>0.0</td>\n",
       "      <td>RoBOTiCS</td>\n",
       "      <td>NaN</td>\n",
       "    </tr>\n",
       "  </tbody>\n",
       "</table>\n",
       "<p>95375 rows × 6 columns</p>\n",
       "</div>"
      ],
      "text/plain": [
       "             issn  ...                           url\n",
       "0       1654-9880  ...                           NaN\n",
       "1       2278-9480  ...                           NaN\n",
       "2       1980-5918  ...  http://www.pucpr.br/revfisio\n",
       "4       2319-5754  ...                           NaN\n",
       "5       2195-0008  ...        http://www.epj-nbp.org\n",
       "...           ...  ...                           ...\n",
       "105486  0005-1098  ...                           NaN\n",
       "105489  0005-1098  ...                           NaN\n",
       "105490  0005-1098  ...                           NaN\n",
       "105491  0005-1098  ...                           NaN\n",
       "105495  0005-1098  ...                           NaN\n",
       "\n",
       "[95375 rows x 6 columns]"
      ]
     },
     "execution_count": 30,
     "metadata": {
      "tags": []
     },
     "output_type": "execute_result"
    }
   ],
   "source": [
    "df_journals"
   ]
  },
  {
   "cell_type": "code",
   "execution_count": 0,
   "metadata": {
    "colab": {},
    "colab_type": "code",
    "id": "R1biW9-KbmQz"
   },
   "outputs": [],
   "source": [
    "# sorting by first name \n",
    "df_journals.sort_values(\"issn\", inplace = True) "
   ]
  },
  {
   "cell_type": "code",
   "execution_count": 0,
   "metadata": {
    "colab": {},
    "colab_type": "code",
    "id": "kSzvtkiQcH_y"
   },
   "outputs": [],
   "source": [
    "# dropping ALL duplicte values \n",
    "df_journals.drop_duplicates(subset =\"issn\", inplace = True) "
   ]
  },
  {
   "cell_type": "code",
   "execution_count": 0,
   "metadata": {
    "colab": {},
    "colab_type": "code",
    "id": "MJdCc1bpaxu1"
   },
   "outputs": [],
   "source": [
    "#Reset index after all drop\n",
    "temp= df_journals.reset_index(drop=True)"
   ]
  },
  {
   "cell_type": "code",
   "execution_count": 34,
   "metadata": {
    "colab": {
     "base_uri": "https://localhost:8080/",
     "height": 419
    },
    "colab_type": "code",
    "id": "1PSFJBbajdNe",
    "outputId": "e67fc79a-a1ca-417f-ba4f-eee9f501458e"
   },
   "outputs": [
    {
     "data": {
      "text/html": [
       "<div>\n",
       "<style scoped>\n",
       "    .dataframe tbody tr th:only-of-type {\n",
       "        vertical-align: middle;\n",
       "    }\n",
       "\n",
       "    .dataframe tbody tr th {\n",
       "        vertical-align: top;\n",
       "    }\n",
       "\n",
       "    .dataframe thead th {\n",
       "        text-align: right;\n",
       "    }\n",
       "</style>\n",
       "<table border=\"1\" class=\"dataframe\">\n",
       "  <thead>\n",
       "    <tr style=\"text-align: right;\">\n",
       "      <th></th>\n",
       "      <th>issn</th>\n",
       "      <th>journal_name</th>\n",
       "      <th>pub_name</th>\n",
       "      <th>is_hybrid</th>\n",
       "      <th>category</th>\n",
       "      <th>url</th>\n",
       "    </tr>\n",
       "  </thead>\n",
       "  <tbody>\n",
       "    <tr>\n",
       "      <th>0</th>\n",
       "      <td>0002-0397</td>\n",
       "      <td>Africa Spectrum</td>\n",
       "      <td>NaN</td>\n",
       "      <td>10.0</td>\n",
       "      <td>NaN</td>\n",
       "      <td>NaN</td>\n",
       "    </tr>\n",
       "    <tr>\n",
       "      <th>1</th>\n",
       "      <td>0003-0090</td>\n",
       "      <td>Bulletin of the American Museum of Natural His...</td>\n",
       "      <td>AMER MUSEUM NATURAL HISTORY</td>\n",
       "      <td>0.0</td>\n",
       "      <td>ECOLOGY AND EVOLUTION</td>\n",
       "      <td>NaN</td>\n",
       "    </tr>\n",
       "    <tr>\n",
       "      <th>2</th>\n",
       "      <td>0003-5521</td>\n",
       "      <td>L'anthropologie</td>\n",
       "      <td>Elsevier</td>\n",
       "      <td>10.0</td>\n",
       "      <td>Anthropology</td>\n",
       "      <td>NaN</td>\n",
       "    </tr>\n",
       "    <tr>\n",
       "      <th>3</th>\n",
       "      <td>0004-1254</td>\n",
       "      <td>Arhiv Za Higijenu Rada I Toksikologiju-Archive...</td>\n",
       "      <td>NaN</td>\n",
       "      <td>0.0</td>\n",
       "      <td>NaN</td>\n",
       "      <td>NaN</td>\n",
       "    </tr>\n",
       "    <tr>\n",
       "      <th>4</th>\n",
       "      <td>0005-1098</td>\n",
       "      <td>Automatica</td>\n",
       "      <td>Elsevier</td>\n",
       "      <td>0.0</td>\n",
       "      <td>RoBOTiCS</td>\n",
       "      <td>NaN</td>\n",
       "    </tr>\n",
       "    <tr>\n",
       "      <th>...</th>\n",
       "      <td>...</td>\n",
       "      <td>...</td>\n",
       "      <td>...</td>\n",
       "      <td>...</td>\n",
       "      <td>...</td>\n",
       "      <td>...</td>\n",
       "    </tr>\n",
       "    <tr>\n",
       "      <th>11914</th>\n",
       "      <td>9681-2016</td>\n",
       "      <td>International Journal for Research in Applied ...</td>\n",
       "      <td>NaN</td>\n",
       "      <td>0.0</td>\n",
       "      <td>NaN</td>\n",
       "      <td>NaN</td>\n",
       "    </tr>\n",
       "    <tr>\n",
       "      <th>11915</th>\n",
       "      <td>9714-1800</td>\n",
       "      <td>Bioinformation</td>\n",
       "      <td>NaN</td>\n",
       "      <td>0.0</td>\n",
       "      <td>NaN</td>\n",
       "      <td>NaN</td>\n",
       "    </tr>\n",
       "    <tr>\n",
       "      <th>11916</th>\n",
       "      <td>9826-4263</td>\n",
       "      <td>Advances in Biomedicine and Pharmacy</td>\n",
       "      <td>NaN</td>\n",
       "      <td>0.0</td>\n",
       "      <td>NaN</td>\n",
       "      <td>NaN</td>\n",
       "    </tr>\n",
       "    <tr>\n",
       "      <th>11917</th>\n",
       "      <td>9933-2016</td>\n",
       "      <td>International Journal for Development of Compu...</td>\n",
       "      <td>NaN</td>\n",
       "      <td>0.0</td>\n",
       "      <td>NaN</td>\n",
       "      <td>NaN</td>\n",
       "    </tr>\n",
       "    <tr>\n",
       "      <th>11918</th>\n",
       "      <td>NaN</td>\n",
       "      <td>NaN</td>\n",
       "      <td>NaN</td>\n",
       "      <td>10.0</td>\n",
       "      <td>NaN</td>\n",
       "      <td>NaN</td>\n",
       "    </tr>\n",
       "  </tbody>\n",
       "</table>\n",
       "<p>11919 rows × 6 columns</p>\n",
       "</div>"
      ],
      "text/plain": [
       "            issn  ...  url\n",
       "0      0002-0397  ...  NaN\n",
       "1      0003-0090  ...  NaN\n",
       "2      0003-5521  ...  NaN\n",
       "3      0004-1254  ...  NaN\n",
       "4      0005-1098  ...  NaN\n",
       "...          ...  ...  ...\n",
       "11914  9681-2016  ...  NaN\n",
       "11915  9714-1800  ...  NaN\n",
       "11916  9826-4263  ...  NaN\n",
       "11917  9933-2016  ...  NaN\n",
       "11918        NaN  ...  NaN\n",
       "\n",
       "[11919 rows x 6 columns]"
      ]
     },
     "execution_count": 34,
     "metadata": {
      "tags": []
     },
     "output_type": "execute_result"
    }
   ],
   "source": [
    "temp"
   ]
  },
  {
   "cell_type": "code",
   "execution_count": 35,
   "metadata": {
    "colab": {
     "base_uri": "https://localhost:8080/",
     "height": 136
    },
    "colab_type": "code",
    "id": "xqKBjrVzdglv",
    "outputId": "b9dbf6a9-faae-4789-c707-75383152f120"
   },
   "outputs": [
    {
     "data": {
      "text/plain": [
       "issn               1\n",
       "journal_name       1\n",
       "pub_name        1360\n",
       "is_hybrid          0\n",
       "category        5763\n",
       "url             6173\n",
       "dtype: int64"
      ]
     },
     "execution_count": 35,
     "metadata": {
      "tags": []
     },
     "output_type": "execute_result"
    }
   ],
   "source": [
    "temp.isnull().sum()"
   ]
  },
  {
   "cell_type": "code",
   "execution_count": 0,
   "metadata": {
    "colab": {},
    "colab_type": "code",
    "id": "1pTuiEgjhmvm"
   },
   "outputs": [],
   "source": [
    "#create a dictionary for filling missing values\n",
    "#1.issn to be filled with value which occured most\n",
    "#2.journal_name to be filled with value which occured most\n",
    "#3.pub_name to be filled with value which occured most\n",
    "#4.category to be filled with value which occured most\n",
    "#5.url to be filled with most common url\n",
    "values_jr = {'issn': temp[\"issn\"].value_counts().idxmax(),'journal_name': temp[\"journal_name\"].value_counts().idxmax(), 'pub_name': temp[\"pub_name\"].value_counts().idxmax(),'category':temp[\"category\"].value_counts().idxmax(),'url':temp[\"url\"].value_counts().idxmax()}"
   ]
  },
  {
   "cell_type": "code",
   "execution_count": 0,
   "metadata": {
    "colab": {},
    "colab_type": "code",
    "id": "V0HZHepZkvB1"
   },
   "outputs": [],
   "source": [
    "temp = temp.fillna(value=values_jr)"
   ]
  },
  {
   "cell_type": "code",
   "execution_count": 38,
   "metadata": {
    "colab": {
     "base_uri": "https://localhost:8080/",
     "height": 136
    },
    "colab_type": "code",
    "id": "-mCoBer1lnIt",
    "outputId": "11722b2b-2db3-4b21-98bb-5edfd1e08f60"
   },
   "outputs": [
    {
     "data": {
      "text/plain": [
       "issn            0\n",
       "journal_name    0\n",
       "pub_name        0\n",
       "is_hybrid       0\n",
       "category        0\n",
       "url             0\n",
       "dtype: int64"
      ]
     },
     "execution_count": 38,
     "metadata": {
      "tags": []
     },
     "output_type": "execute_result"
    }
   ],
   "source": [
    "temp.isnull().sum()"
   ]
  },
  {
   "cell_type": "code",
   "execution_count": 0,
   "metadata": {
    "colab": {},
    "colab_type": "code",
    "id": "HfnrA1DgCVfO"
   },
   "outputs": [],
   "source": [
    "#remove and replace special characters with space\n",
    "temp['pub_name'] = temp['pub_name'].str.replace('\\W', ' ')"
   ]
  },
  {
   "cell_type": "code",
   "execution_count": 40,
   "metadata": {
    "colab": {
     "base_uri": "https://localhost:8080/",
     "height": 419
    },
    "colab_type": "code",
    "id": "EFnOykJGDfly",
    "outputId": "fc3a639f-07bb-46fa-d9a0-0c8d97404ddb"
   },
   "outputs": [
    {
     "data": {
      "text/html": [
       "<div>\n",
       "<style scoped>\n",
       "    .dataframe tbody tr th:only-of-type {\n",
       "        vertical-align: middle;\n",
       "    }\n",
       "\n",
       "    .dataframe tbody tr th {\n",
       "        vertical-align: top;\n",
       "    }\n",
       "\n",
       "    .dataframe thead th {\n",
       "        text-align: right;\n",
       "    }\n",
       "</style>\n",
       "<table border=\"1\" class=\"dataframe\">\n",
       "  <thead>\n",
       "    <tr style=\"text-align: right;\">\n",
       "      <th></th>\n",
       "      <th>issn</th>\n",
       "      <th>journal_name</th>\n",
       "      <th>pub_name</th>\n",
       "      <th>is_hybrid</th>\n",
       "      <th>category</th>\n",
       "      <th>url</th>\n",
       "    </tr>\n",
       "  </thead>\n",
       "  <tbody>\n",
       "    <tr>\n",
       "      <th>0</th>\n",
       "      <td>0002-0397</td>\n",
       "      <td>Africa Spectrum</td>\n",
       "      <td>Springer</td>\n",
       "      <td>10.0</td>\n",
       "      <td>Medicine</td>\n",
       "      <td>https://www.springer.com/us/open-access/spring...</td>\n",
       "    </tr>\n",
       "    <tr>\n",
       "      <th>1</th>\n",
       "      <td>0003-0090</td>\n",
       "      <td>Bulletin of the American Museum of Natural His...</td>\n",
       "      <td>AMER MUSEUM NATURAL HISTORY</td>\n",
       "      <td>0.0</td>\n",
       "      <td>ECOLOGY AND EVOLUTION</td>\n",
       "      <td>https://www.springer.com/us/open-access/spring...</td>\n",
       "    </tr>\n",
       "    <tr>\n",
       "      <th>2</th>\n",
       "      <td>0003-5521</td>\n",
       "      <td>L'anthropologie</td>\n",
       "      <td>Elsevier</td>\n",
       "      <td>10.0</td>\n",
       "      <td>Anthropology</td>\n",
       "      <td>https://www.springer.com/us/open-access/spring...</td>\n",
       "    </tr>\n",
       "    <tr>\n",
       "      <th>3</th>\n",
       "      <td>0004-1254</td>\n",
       "      <td>Arhiv Za Higijenu Rada I Toksikologiju-Archive...</td>\n",
       "      <td>Springer</td>\n",
       "      <td>0.0</td>\n",
       "      <td>Medicine</td>\n",
       "      <td>https://www.springer.com/us/open-access/spring...</td>\n",
       "    </tr>\n",
       "    <tr>\n",
       "      <th>4</th>\n",
       "      <td>0005-1098</td>\n",
       "      <td>Automatica</td>\n",
       "      <td>Elsevier</td>\n",
       "      <td>0.0</td>\n",
       "      <td>RoBOTiCS</td>\n",
       "      <td>https://www.springer.com/us/open-access/spring...</td>\n",
       "    </tr>\n",
       "    <tr>\n",
       "      <th>...</th>\n",
       "      <td>...</td>\n",
       "      <td>...</td>\n",
       "      <td>...</td>\n",
       "      <td>...</td>\n",
       "      <td>...</td>\n",
       "      <td>...</td>\n",
       "    </tr>\n",
       "    <tr>\n",
       "      <th>11914</th>\n",
       "      <td>9681-2016</td>\n",
       "      <td>International Journal for Research in Applied ...</td>\n",
       "      <td>Springer</td>\n",
       "      <td>0.0</td>\n",
       "      <td>Medicine</td>\n",
       "      <td>https://www.springer.com/us/open-access/spring...</td>\n",
       "    </tr>\n",
       "    <tr>\n",
       "      <th>11915</th>\n",
       "      <td>9714-1800</td>\n",
       "      <td>Bioinformation</td>\n",
       "      <td>Springer</td>\n",
       "      <td>0.0</td>\n",
       "      <td>Medicine</td>\n",
       "      <td>https://www.springer.com/us/open-access/spring...</td>\n",
       "    </tr>\n",
       "    <tr>\n",
       "      <th>11916</th>\n",
       "      <td>9826-4263</td>\n",
       "      <td>Advances in Biomedicine and Pharmacy</td>\n",
       "      <td>Springer</td>\n",
       "      <td>0.0</td>\n",
       "      <td>Medicine</td>\n",
       "      <td>https://www.springer.com/us/open-access/spring...</td>\n",
       "    </tr>\n",
       "    <tr>\n",
       "      <th>11917</th>\n",
       "      <td>9933-2016</td>\n",
       "      <td>International Journal for Development of Compu...</td>\n",
       "      <td>Springer</td>\n",
       "      <td>0.0</td>\n",
       "      <td>Medicine</td>\n",
       "      <td>https://www.springer.com/us/open-access/spring...</td>\n",
       "    </tr>\n",
       "    <tr>\n",
       "      <th>11918</th>\n",
       "      <td>1976-6696</td>\n",
       "      <td>International Journal of Humanities and Cultur...</td>\n",
       "      <td>Springer</td>\n",
       "      <td>10.0</td>\n",
       "      <td>Medicine</td>\n",
       "      <td>https://www.springer.com/us/open-access/spring...</td>\n",
       "    </tr>\n",
       "  </tbody>\n",
       "</table>\n",
       "<p>11919 rows × 6 columns</p>\n",
       "</div>"
      ],
      "text/plain": [
       "            issn  ...                                                url\n",
       "0      0002-0397  ...  https://www.springer.com/us/open-access/spring...\n",
       "1      0003-0090  ...  https://www.springer.com/us/open-access/spring...\n",
       "2      0003-5521  ...  https://www.springer.com/us/open-access/spring...\n",
       "3      0004-1254  ...  https://www.springer.com/us/open-access/spring...\n",
       "4      0005-1098  ...  https://www.springer.com/us/open-access/spring...\n",
       "...          ...  ...                                                ...\n",
       "11914  9681-2016  ...  https://www.springer.com/us/open-access/spring...\n",
       "11915  9714-1800  ...  https://www.springer.com/us/open-access/spring...\n",
       "11916  9826-4263  ...  https://www.springer.com/us/open-access/spring...\n",
       "11917  9933-2016  ...  https://www.springer.com/us/open-access/spring...\n",
       "11918  1976-6696  ...  https://www.springer.com/us/open-access/spring...\n",
       "\n",
       "[11919 rows x 6 columns]"
      ]
     },
     "execution_count": 40,
     "metadata": {
      "tags": []
     },
     "output_type": "execute_result"
    }
   ],
   "source": [
    "temp"
   ]
  },
  {
   "cell_type": "code",
   "execution_count": 41,
   "metadata": {
    "colab": {
     "base_uri": "https://localhost:8080/",
     "height": 34
    },
    "colab_type": "code",
    "id": "DrCcOrfrFxWK",
    "outputId": "75d8fdc7-533b-4182-d834-90a96585ed0c"
   },
   "outputs": [
    {
     "data": {
      "text/plain": [
       "array([10.,  0.,  1.])"
      ]
     },
     "execution_count": 41,
     "metadata": {
      "tags": []
     },
     "output_type": "execute_result"
    }
   ],
   "source": [
    "#check values of is_hybrid\n",
    "temp.is_hybrid.unique()"
   ]
  },
  {
   "cell_type": "code",
   "execution_count": 0,
   "metadata": {
    "colab": {},
    "colab_type": "code",
    "id": "Ch56_udtF0di"
   },
   "outputs": [],
   "source": [
    "#Capitalize the first lettter after removing leading spaces for journal name,publication name and category column\n",
    "ls =['journal_name','pub_name','category']\n",
    "for i in ls:\n",
    "  temp[i] = temp[i].apply(lambda x : x.strip().capitalize()) "
   ]
  },
  {
   "cell_type": "code",
   "execution_count": 43,
   "metadata": {
    "colab": {
     "base_uri": "https://localhost:8080/",
     "height": 419
    },
    "colab_type": "code",
    "id": "rRptpG6pIq7S",
    "outputId": "0b45da30-b3e4-4be4-dc26-32250944b67c"
   },
   "outputs": [
    {
     "data": {
      "text/html": [
       "<div>\n",
       "<style scoped>\n",
       "    .dataframe tbody tr th:only-of-type {\n",
       "        vertical-align: middle;\n",
       "    }\n",
       "\n",
       "    .dataframe tbody tr th {\n",
       "        vertical-align: top;\n",
       "    }\n",
       "\n",
       "    .dataframe thead th {\n",
       "        text-align: right;\n",
       "    }\n",
       "</style>\n",
       "<table border=\"1\" class=\"dataframe\">\n",
       "  <thead>\n",
       "    <tr style=\"text-align: right;\">\n",
       "      <th></th>\n",
       "      <th>issn</th>\n",
       "      <th>journal_name</th>\n",
       "      <th>pub_name</th>\n",
       "      <th>is_hybrid</th>\n",
       "      <th>category</th>\n",
       "      <th>url</th>\n",
       "    </tr>\n",
       "  </thead>\n",
       "  <tbody>\n",
       "    <tr>\n",
       "      <th>0</th>\n",
       "      <td>0002-0397</td>\n",
       "      <td>Africa spectrum</td>\n",
       "      <td>Springer</td>\n",
       "      <td>10.0</td>\n",
       "      <td>Medicine</td>\n",
       "      <td>https://www.springer.com/us/open-access/spring...</td>\n",
       "    </tr>\n",
       "    <tr>\n",
       "      <th>1</th>\n",
       "      <td>0003-0090</td>\n",
       "      <td>Bulletin of the american museum of natural his...</td>\n",
       "      <td>Amer museum natural history</td>\n",
       "      <td>0.0</td>\n",
       "      <td>Ecology and evolution</td>\n",
       "      <td>https://www.springer.com/us/open-access/spring...</td>\n",
       "    </tr>\n",
       "    <tr>\n",
       "      <th>2</th>\n",
       "      <td>0003-5521</td>\n",
       "      <td>L'anthropologie</td>\n",
       "      <td>Elsevier</td>\n",
       "      <td>10.0</td>\n",
       "      <td>Anthropology</td>\n",
       "      <td>https://www.springer.com/us/open-access/spring...</td>\n",
       "    </tr>\n",
       "    <tr>\n",
       "      <th>3</th>\n",
       "      <td>0004-1254</td>\n",
       "      <td>Arhiv za higijenu rada i toksikologiju-archive...</td>\n",
       "      <td>Springer</td>\n",
       "      <td>0.0</td>\n",
       "      <td>Medicine</td>\n",
       "      <td>https://www.springer.com/us/open-access/spring...</td>\n",
       "    </tr>\n",
       "    <tr>\n",
       "      <th>4</th>\n",
       "      <td>0005-1098</td>\n",
       "      <td>Automatica</td>\n",
       "      <td>Elsevier</td>\n",
       "      <td>0.0</td>\n",
       "      <td>Robotics</td>\n",
       "      <td>https://www.springer.com/us/open-access/spring...</td>\n",
       "    </tr>\n",
       "    <tr>\n",
       "      <th>...</th>\n",
       "      <td>...</td>\n",
       "      <td>...</td>\n",
       "      <td>...</td>\n",
       "      <td>...</td>\n",
       "      <td>...</td>\n",
       "      <td>...</td>\n",
       "    </tr>\n",
       "    <tr>\n",
       "      <th>11914</th>\n",
       "      <td>9681-2016</td>\n",
       "      <td>International journal for research in applied ...</td>\n",
       "      <td>Springer</td>\n",
       "      <td>0.0</td>\n",
       "      <td>Medicine</td>\n",
       "      <td>https://www.springer.com/us/open-access/spring...</td>\n",
       "    </tr>\n",
       "    <tr>\n",
       "      <th>11915</th>\n",
       "      <td>9714-1800</td>\n",
       "      <td>Bioinformation</td>\n",
       "      <td>Springer</td>\n",
       "      <td>0.0</td>\n",
       "      <td>Medicine</td>\n",
       "      <td>https://www.springer.com/us/open-access/spring...</td>\n",
       "    </tr>\n",
       "    <tr>\n",
       "      <th>11916</th>\n",
       "      <td>9826-4263</td>\n",
       "      <td>Advances in biomedicine and pharmacy</td>\n",
       "      <td>Springer</td>\n",
       "      <td>0.0</td>\n",
       "      <td>Medicine</td>\n",
       "      <td>https://www.springer.com/us/open-access/spring...</td>\n",
       "    </tr>\n",
       "    <tr>\n",
       "      <th>11917</th>\n",
       "      <td>9933-2016</td>\n",
       "      <td>International journal for development of compu...</td>\n",
       "      <td>Springer</td>\n",
       "      <td>0.0</td>\n",
       "      <td>Medicine</td>\n",
       "      <td>https://www.springer.com/us/open-access/spring...</td>\n",
       "    </tr>\n",
       "    <tr>\n",
       "      <th>11918</th>\n",
       "      <td>1976-6696</td>\n",
       "      <td>International journal of humanities and cultur...</td>\n",
       "      <td>Springer</td>\n",
       "      <td>10.0</td>\n",
       "      <td>Medicine</td>\n",
       "      <td>https://www.springer.com/us/open-access/spring...</td>\n",
       "    </tr>\n",
       "  </tbody>\n",
       "</table>\n",
       "<p>11919 rows × 6 columns</p>\n",
       "</div>"
      ],
      "text/plain": [
       "            issn  ...                                                url\n",
       "0      0002-0397  ...  https://www.springer.com/us/open-access/spring...\n",
       "1      0003-0090  ...  https://www.springer.com/us/open-access/spring...\n",
       "2      0003-5521  ...  https://www.springer.com/us/open-access/spring...\n",
       "3      0004-1254  ...  https://www.springer.com/us/open-access/spring...\n",
       "4      0005-1098  ...  https://www.springer.com/us/open-access/spring...\n",
       "...          ...  ...                                                ...\n",
       "11914  9681-2016  ...  https://www.springer.com/us/open-access/spring...\n",
       "11915  9714-1800  ...  https://www.springer.com/us/open-access/spring...\n",
       "11916  9826-4263  ...  https://www.springer.com/us/open-access/spring...\n",
       "11917  9933-2016  ...  https://www.springer.com/us/open-access/spring...\n",
       "11918  1976-6696  ...  https://www.springer.com/us/open-access/spring...\n",
       "\n",
       "[11919 rows x 6 columns]"
      ]
     },
     "execution_count": 43,
     "metadata": {
      "tags": []
     },
     "output_type": "execute_result"
    }
   ],
   "source": [
    "temp"
   ]
  },
  {
   "cell_type": "code",
   "execution_count": 0,
   "metadata": {
    "colab": {},
    "colab_type": "code",
    "id": "I_y57Lp5daHK"
   },
   "outputs": [],
   "source": [
    "#Export cleaned csv file\n",
    "temp.to_csv(\"Journals_cleaned.csv\",index=False)  "
   ]
  },
  {
   "cell_type": "markdown",
   "metadata": {
    "colab_type": "text",
    "id": "0BGupt8VkTIs"
   },
   "source": [
    "**3. Price**"
   ]
  },
  {
   "cell_type": "code",
   "execution_count": 45,
   "metadata": {
    "colab": {
     "base_uri": "https://localhost:8080/",
     "height": 419
    },
    "colab_type": "code",
    "id": "MxgYDa4BkCvK",
    "outputId": "0443f46b-b471-42b7-b763-a30a90bd0dfe"
   },
   "outputs": [
    {
     "data": {
      "text/html": [
       "<div>\n",
       "<style scoped>\n",
       "    .dataframe tbody tr th:only-of-type {\n",
       "        vertical-align: middle;\n",
       "    }\n",
       "\n",
       "    .dataframe tbody tr th {\n",
       "        vertical-align: top;\n",
       "    }\n",
       "\n",
       "    .dataframe thead th {\n",
       "        text-align: right;\n",
       "    }\n",
       "</style>\n",
       "<table border=\"1\" class=\"dataframe\">\n",
       "  <thead>\n",
       "    <tr style=\"text-align: right;\">\n",
       "      <th></th>\n",
       "      <th>id</th>\n",
       "      <th>price</th>\n",
       "      <th>date_stamp</th>\n",
       "      <th>journal_id</th>\n",
       "      <th>influence_id</th>\n",
       "      <th>url</th>\n",
       "      <th>license</th>\n",
       "    </tr>\n",
       "  </thead>\n",
       "  <tbody>\n",
       "    <tr>\n",
       "      <th>0</th>\n",
       "      <td>8691</td>\n",
       "      <td>1400.0</td>\n",
       "      <td>2016-08-11</td>\n",
       "      <td>2051-5960</td>\n",
       "      <td>NaN</td>\n",
       "      <td>NaN</td>\n",
       "      <td>NaN</td>\n",
       "    </tr>\n",
       "    <tr>\n",
       "      <th>1</th>\n",
       "      <td>8692</td>\n",
       "      <td>2175.0</td>\n",
       "      <td>2016-08-11</td>\n",
       "      <td>1758-9193</td>\n",
       "      <td>NaN</td>\n",
       "      <td>NaN</td>\n",
       "      <td>NaN</td>\n",
       "    </tr>\n",
       "    <tr>\n",
       "      <th>2</th>\n",
       "      <td>8693</td>\n",
       "      <td>2145.0</td>\n",
       "      <td>2016-08-11</td>\n",
       "      <td>1476-0711</td>\n",
       "      <td>NaN</td>\n",
       "      <td>NaN</td>\n",
       "      <td>NaN</td>\n",
       "    </tr>\n",
       "    <tr>\n",
       "      <th>3</th>\n",
       "      <td>8694</td>\n",
       "      <td>2145.0</td>\n",
       "      <td>2016-08-11</td>\n",
       "      <td>2047-2994</td>\n",
       "      <td>NaN</td>\n",
       "      <td>NaN</td>\n",
       "      <td>NaN</td>\n",
       "    </tr>\n",
       "    <tr>\n",
       "      <th>4</th>\n",
       "      <td>8695</td>\n",
       "      <td>2145.0</td>\n",
       "      <td>2016-08-11</td>\n",
       "      <td>1744-9081</td>\n",
       "      <td>NaN</td>\n",
       "      <td>NaN</td>\n",
       "      <td>NaN</td>\n",
       "    </tr>\n",
       "    <tr>\n",
       "      <th>...</th>\n",
       "      <td>...</td>\n",
       "      <td>...</td>\n",
       "      <td>...</td>\n",
       "      <td>...</td>\n",
       "      <td>...</td>\n",
       "      <td>...</td>\n",
       "      <td>...</td>\n",
       "    </tr>\n",
       "    <tr>\n",
       "      <th>7790</th>\n",
       "      <td>16482</td>\n",
       "      <td>80.0</td>\n",
       "      <td>2017-09-30</td>\n",
       "      <td>2456-1908</td>\n",
       "      <td>NaN</td>\n",
       "      <td>http://ijaers.com/payment-option/</td>\n",
       "      <td>9.0</td>\n",
       "    </tr>\n",
       "    <tr>\n",
       "      <th>7791</th>\n",
       "      <td>16483</td>\n",
       "      <td>85.0</td>\n",
       "      <td>2017-09-30</td>\n",
       "      <td>2350-0530</td>\n",
       "      <td>NaN</td>\n",
       "      <td>http://granthaalayah.com/Publication_Charges.html</td>\n",
       "      <td>1.0</td>\n",
       "    </tr>\n",
       "    <tr>\n",
       "      <th>7792</th>\n",
       "      <td>16484</td>\n",
       "      <td>800.0</td>\n",
       "      <td>2017-10-18</td>\n",
       "      <td>2251-3582</td>\n",
       "      <td>NaN</td>\n",
       "      <td>http://nursing.usp-pl.com/index.php/Nursing</td>\n",
       "      <td>2.0</td>\n",
       "    </tr>\n",
       "    <tr>\n",
       "      <th>7793</th>\n",
       "      <td>16485</td>\n",
       "      <td>75.0</td>\n",
       "      <td>2017-10-17</td>\n",
       "      <td>2250-3021</td>\n",
       "      <td>NaN</td>\n",
       "      <td>http://iosrjen.org/pages/faqs.html</td>\n",
       "      <td>10.0</td>\n",
       "    </tr>\n",
       "    <tr>\n",
       "      <th>7794</th>\n",
       "      <td>16486</td>\n",
       "      <td>0.0</td>\n",
       "      <td>2017-10-20</td>\n",
       "      <td>2211-2898</td>\n",
       "      <td>NaN</td>\n",
       "      <td>https://www.bmgn-lchr.nl/</td>\n",
       "      <td>2.0</td>\n",
       "    </tr>\n",
       "  </tbody>\n",
       "</table>\n",
       "<p>7795 rows × 7 columns</p>\n",
       "</div>"
      ],
      "text/plain": [
       "         id   price  ...                                                url license\n",
       "0      8691  1400.0  ...                                                NaN     NaN\n",
       "1      8692  2175.0  ...                                                NaN     NaN\n",
       "2      8693  2145.0  ...                                                NaN     NaN\n",
       "3      8694  2145.0  ...                                                NaN     NaN\n",
       "4      8695  2145.0  ...                                                NaN     NaN\n",
       "...     ...     ...  ...                                                ...     ...\n",
       "7790  16482    80.0  ...                  http://ijaers.com/payment-option/     9.0\n",
       "7791  16483    85.0  ...  http://granthaalayah.com/Publication_Charges.html     1.0\n",
       "7792  16484   800.0  ...        http://nursing.usp-pl.com/index.php/Nursing     2.0\n",
       "7793  16485    75.0  ...                 http://iosrjen.org/pages/faqs.html    10.0\n",
       "7794  16486     0.0  ...                          https://www.bmgn-lchr.nl/     2.0\n",
       "\n",
       "[7795 rows x 7 columns]"
      ]
     },
     "execution_count": 45,
     "metadata": {
      "tags": []
     },
     "output_type": "execute_result"
    }
   ],
   "source": [
    "#create a pandas data frame\n",
    "df_price = pd.read_csv('price.csv')\n",
    "df_price"
   ]
  },
  {
   "cell_type": "code",
   "execution_count": 46,
   "metadata": {
    "colab": {
     "base_uri": "https://localhost:8080/",
     "height": 221
    },
    "colab_type": "code",
    "id": "mxhj2YqqkWFh",
    "outputId": "63b15f10-4ae1-41d5-ff31-e8d04274f4fa"
   },
   "outputs": [
    {
     "name": "stdout",
     "output_type": "stream",
     "text": [
      "<class 'pandas.core.frame.DataFrame'>\n",
      "RangeIndex: 7795 entries, 0 to 7794\n",
      "Data columns (total 7 columns):\n",
      "id              7795 non-null int64\n",
      "price           7795 non-null float64\n",
      "date_stamp      7795 non-null object\n",
      "journal_id      7795 non-null object\n",
      "influence_id    759 non-null float64\n",
      "url             364 non-null object\n",
      "license         378 non-null float64\n",
      "dtypes: float64(3), int64(1), object(3)\n",
      "memory usage: 426.4+ KB\n"
     ]
    }
   ],
   "source": [
    "df_price.info()"
   ]
  },
  {
   "cell_type": "code",
   "execution_count": 0,
   "metadata": {
    "colab": {},
    "colab_type": "code",
    "id": "cNzR5FzXkqnx"
   },
   "outputs": [],
   "source": [
    "#Delete all those rows which has incorrect date and journal id format\n",
    "indx_dt = df_price[df_price['date_stamp'].str.match('[0-9]{4}-[0-9]{2}-[0-9]{2}')==False].index\n",
    "indx_jr = df_price[df_price['journal_id'].str.match('[0-9]{4}-[0-9]{4}')==False].index"
   ]
  },
  {
   "cell_type": "code",
   "execution_count": 0,
   "metadata": {
    "colab": {},
    "colab_type": "code",
    "id": "c31xI3yymOT4"
   },
   "outputs": [],
   "source": [
    "#change all the values in url to lower case\n",
    "df_price['url']= df_price['url'].str.lower()\n",
    "\n",
    "url_del = df_price[df_price['url'].str.startswith(search)==False].index"
   ]
  },
  {
   "cell_type": "code",
   "execution_count": 0,
   "metadata": {
    "colab": {},
    "colab_type": "code",
    "id": "VXqle5jYleHj"
   },
   "outputs": [],
   "source": [
    "# Delete these row indexes from dataFrame\n",
    "df_price.drop(indx_dt , inplace=True)\n",
    "df_price.drop(indx_jr , inplace=True)\n",
    "df_price.drop(url_del , inplace=True)"
   ]
  },
  {
   "cell_type": "code",
   "execution_count": 50,
   "metadata": {
    "colab": {
     "base_uri": "https://localhost:8080/",
     "height": 419
    },
    "colab_type": "code",
    "id": "Ot2N_Kp6lyAq",
    "outputId": "8db5ab6f-66a0-4cd9-9105-8f8c6ae89077"
   },
   "outputs": [
    {
     "data": {
      "text/html": [
       "<div>\n",
       "<style scoped>\n",
       "    .dataframe tbody tr th:only-of-type {\n",
       "        vertical-align: middle;\n",
       "    }\n",
       "\n",
       "    .dataframe tbody tr th {\n",
       "        vertical-align: top;\n",
       "    }\n",
       "\n",
       "    .dataframe thead th {\n",
       "        text-align: right;\n",
       "    }\n",
       "</style>\n",
       "<table border=\"1\" class=\"dataframe\">\n",
       "  <thead>\n",
       "    <tr style=\"text-align: right;\">\n",
       "      <th></th>\n",
       "      <th>id</th>\n",
       "      <th>price</th>\n",
       "      <th>date_stamp</th>\n",
       "      <th>journal_id</th>\n",
       "      <th>influence_id</th>\n",
       "      <th>url</th>\n",
       "      <th>license</th>\n",
       "    </tr>\n",
       "  </thead>\n",
       "  <tbody>\n",
       "    <tr>\n",
       "      <th>0</th>\n",
       "      <td>8691</td>\n",
       "      <td>1400.0</td>\n",
       "      <td>2016-08-11</td>\n",
       "      <td>2051-5960</td>\n",
       "      <td>NaN</td>\n",
       "      <td>NaN</td>\n",
       "      <td>NaN</td>\n",
       "    </tr>\n",
       "    <tr>\n",
       "      <th>1</th>\n",
       "      <td>8692</td>\n",
       "      <td>2175.0</td>\n",
       "      <td>2016-08-11</td>\n",
       "      <td>1758-9193</td>\n",
       "      <td>NaN</td>\n",
       "      <td>NaN</td>\n",
       "      <td>NaN</td>\n",
       "    </tr>\n",
       "    <tr>\n",
       "      <th>2</th>\n",
       "      <td>8693</td>\n",
       "      <td>2145.0</td>\n",
       "      <td>2016-08-11</td>\n",
       "      <td>1476-0711</td>\n",
       "      <td>NaN</td>\n",
       "      <td>NaN</td>\n",
       "      <td>NaN</td>\n",
       "    </tr>\n",
       "    <tr>\n",
       "      <th>3</th>\n",
       "      <td>8694</td>\n",
       "      <td>2145.0</td>\n",
       "      <td>2016-08-11</td>\n",
       "      <td>2047-2994</td>\n",
       "      <td>NaN</td>\n",
       "      <td>NaN</td>\n",
       "      <td>NaN</td>\n",
       "    </tr>\n",
       "    <tr>\n",
       "      <th>4</th>\n",
       "      <td>8695</td>\n",
       "      <td>2145.0</td>\n",
       "      <td>2016-08-11</td>\n",
       "      <td>1744-9081</td>\n",
       "      <td>NaN</td>\n",
       "      <td>NaN</td>\n",
       "      <td>NaN</td>\n",
       "    </tr>\n",
       "    <tr>\n",
       "      <th>...</th>\n",
       "      <td>...</td>\n",
       "      <td>...</td>\n",
       "      <td>...</td>\n",
       "      <td>...</td>\n",
       "      <td>...</td>\n",
       "      <td>...</td>\n",
       "      <td>...</td>\n",
       "    </tr>\n",
       "    <tr>\n",
       "      <th>7790</th>\n",
       "      <td>16482</td>\n",
       "      <td>80.0</td>\n",
       "      <td>2017-09-30</td>\n",
       "      <td>2456-1908</td>\n",
       "      <td>NaN</td>\n",
       "      <td>http://ijaers.com/payment-option/</td>\n",
       "      <td>9.0</td>\n",
       "    </tr>\n",
       "    <tr>\n",
       "      <th>7791</th>\n",
       "      <td>16483</td>\n",
       "      <td>85.0</td>\n",
       "      <td>2017-09-30</td>\n",
       "      <td>2350-0530</td>\n",
       "      <td>NaN</td>\n",
       "      <td>http://granthaalayah.com/publication_charges.html</td>\n",
       "      <td>1.0</td>\n",
       "    </tr>\n",
       "    <tr>\n",
       "      <th>7792</th>\n",
       "      <td>16484</td>\n",
       "      <td>800.0</td>\n",
       "      <td>2017-10-18</td>\n",
       "      <td>2251-3582</td>\n",
       "      <td>NaN</td>\n",
       "      <td>http://nursing.usp-pl.com/index.php/nursing</td>\n",
       "      <td>2.0</td>\n",
       "    </tr>\n",
       "    <tr>\n",
       "      <th>7793</th>\n",
       "      <td>16485</td>\n",
       "      <td>75.0</td>\n",
       "      <td>2017-10-17</td>\n",
       "      <td>2250-3021</td>\n",
       "      <td>NaN</td>\n",
       "      <td>http://iosrjen.org/pages/faqs.html</td>\n",
       "      <td>10.0</td>\n",
       "    </tr>\n",
       "    <tr>\n",
       "      <th>7794</th>\n",
       "      <td>16486</td>\n",
       "      <td>0.0</td>\n",
       "      <td>2017-10-20</td>\n",
       "      <td>2211-2898</td>\n",
       "      <td>NaN</td>\n",
       "      <td>https://www.bmgn-lchr.nl/</td>\n",
       "      <td>2.0</td>\n",
       "    </tr>\n",
       "  </tbody>\n",
       "</table>\n",
       "<p>7064 rows × 7 columns</p>\n",
       "</div>"
      ],
      "text/plain": [
       "         id   price  ...                                                url license\n",
       "0      8691  1400.0  ...                                                NaN     NaN\n",
       "1      8692  2175.0  ...                                                NaN     NaN\n",
       "2      8693  2145.0  ...                                                NaN     NaN\n",
       "3      8694  2145.0  ...                                                NaN     NaN\n",
       "4      8695  2145.0  ...                                                NaN     NaN\n",
       "...     ...     ...  ...                                                ...     ...\n",
       "7790  16482    80.0  ...                  http://ijaers.com/payment-option/     9.0\n",
       "7791  16483    85.0  ...  http://granthaalayah.com/publication_charges.html     1.0\n",
       "7792  16484   800.0  ...        http://nursing.usp-pl.com/index.php/nursing     2.0\n",
       "7793  16485    75.0  ...                 http://iosrjen.org/pages/faqs.html    10.0\n",
       "7794  16486     0.0  ...                          https://www.bmgn-lchr.nl/     2.0\n",
       "\n",
       "[7064 rows x 7 columns]"
      ]
     },
     "execution_count": 50,
     "metadata": {
      "tags": []
     },
     "output_type": "execute_result"
    }
   ],
   "source": [
    "df_price"
   ]
  },
  {
   "cell_type": "code",
   "execution_count": 0,
   "metadata": {
    "colab": {},
    "colab_type": "code",
    "id": "2XiTY_G_pfVv"
   },
   "outputs": [],
   "source": [
    "# sorting by first name \n",
    "df_price.sort_values(\"journal_id\", inplace = True) "
   ]
  },
  {
   "cell_type": "code",
   "execution_count": 0,
   "metadata": {
    "colab": {},
    "colab_type": "code",
    "id": "UcXkvWEtpttN"
   },
   "outputs": [],
   "source": [
    "# dropping ALL duplicte values \n",
    "df_price.drop_duplicates(subset =\"journal_id\", inplace = True) "
   ]
  },
  {
   "cell_type": "code",
   "execution_count": 0,
   "metadata": {
    "colab": {},
    "colab_type": "code",
    "id": "3vXqMufEoMlZ"
   },
   "outputs": [],
   "source": [
    "#Reset index after all drop\n",
    "temp_pr= df_price.reset_index(drop=True)"
   ]
  },
  {
   "cell_type": "code",
   "execution_count": 54,
   "metadata": {
    "colab": {
     "base_uri": "https://localhost:8080/",
     "height": 153
    },
    "colab_type": "code",
    "id": "BUi_HQrSoR6f",
    "outputId": "0098eac3-fe16-4880-ca54-bfb3f3134e20"
   },
   "outputs": [
    {
     "data": {
      "text/plain": [
       "id                 0\n",
       "price              0\n",
       "date_stamp         0\n",
       "journal_id         0\n",
       "influence_id    4950\n",
       "url             5018\n",
       "license         5010\n",
       "dtype: int64"
      ]
     },
     "execution_count": 54,
     "metadata": {
      "tags": []
     },
     "output_type": "execute_result"
    }
   ],
   "source": [
    "temp_pr.isnull().sum()"
   ]
  },
  {
   "cell_type": "code",
   "execution_count": 0,
   "metadata": {
    "colab": {},
    "colab_type": "code",
    "id": "ux8F6ylEoWv9"
   },
   "outputs": [],
   "source": [
    "#create a dictionary for filling missing values\n",
    "#1.influence_id to be filled with value which occured most\n",
    "#2.license to be filled with value which occured most\n",
    "#3.url to be filled with most common url\n",
    "values_pr = {'influence_id': temp_pr[\"influence_id\"].value_counts().idxmax(),'url': temp_pr[\"url\"].value_counts().idxmax(), 'license': temp_pr[\"license\"].value_counts().idxmax()}"
   ]
  },
  {
   "cell_type": "code",
   "execution_count": 0,
   "metadata": {
    "colab": {},
    "colab_type": "code",
    "id": "sPD8-48FpIVx"
   },
   "outputs": [],
   "source": [
    "temp_pr = temp_pr.fillna(value=values_pr)"
   ]
  },
  {
   "cell_type": "code",
   "execution_count": 57,
   "metadata": {
    "colab": {
     "base_uri": "https://localhost:8080/",
     "height": 419
    },
    "colab_type": "code",
    "id": "8SjoF1F8pN0Y",
    "outputId": "bee02951-424d-4b3a-cbda-e779fdf45c16"
   },
   "outputs": [
    {
     "data": {
      "text/html": [
       "<div>\n",
       "<style scoped>\n",
       "    .dataframe tbody tr th:only-of-type {\n",
       "        vertical-align: middle;\n",
       "    }\n",
       "\n",
       "    .dataframe tbody tr th {\n",
       "        vertical-align: top;\n",
       "    }\n",
       "\n",
       "    .dataframe thead th {\n",
       "        text-align: right;\n",
       "    }\n",
       "</style>\n",
       "<table border=\"1\" class=\"dataframe\">\n",
       "  <thead>\n",
       "    <tr style=\"text-align: right;\">\n",
       "      <th></th>\n",
       "      <th>id</th>\n",
       "      <th>price</th>\n",
       "      <th>date_stamp</th>\n",
       "      <th>journal_id</th>\n",
       "      <th>influence_id</th>\n",
       "      <th>url</th>\n",
       "      <th>license</th>\n",
       "    </tr>\n",
       "  </thead>\n",
       "  <tbody>\n",
       "    <tr>\n",
       "      <th>0</th>\n",
       "      <td>9424</td>\n",
       "      <td>0.0</td>\n",
       "      <td>2012-01-01</td>\n",
       "      <td>0003-0090</td>\n",
       "      <td>4480.0</td>\n",
       "      <td>https://www.biomedcentral.com/getpublished/art...</td>\n",
       "      <td>1.0</td>\n",
       "    </tr>\n",
       "    <tr>\n",
       "      <th>1</th>\n",
       "      <td>16021</td>\n",
       "      <td>3000.0</td>\n",
       "      <td>2017-05-22</td>\n",
       "      <td>0003-5521</td>\n",
       "      <td>4110.0</td>\n",
       "      <td>https://www.biomedcentral.com/getpublished/art...</td>\n",
       "      <td>1.0</td>\n",
       "    </tr>\n",
       "    <tr>\n",
       "      <th>2</th>\n",
       "      <td>16030</td>\n",
       "      <td>3100.0</td>\n",
       "      <td>2017-05-22</td>\n",
       "      <td>0005-1098</td>\n",
       "      <td>4110.0</td>\n",
       "      <td>https://www.biomedcentral.com/getpublished/art...</td>\n",
       "      <td>1.0</td>\n",
       "    </tr>\n",
       "    <tr>\n",
       "      <th>3</th>\n",
       "      <td>16117</td>\n",
       "      <td>3500.0</td>\n",
       "      <td>2017-05-22</td>\n",
       "      <td>0008-6223</td>\n",
       "      <td>4110.0</td>\n",
       "      <td>https://www.biomedcentral.com/getpublished/art...</td>\n",
       "      <td>1.0</td>\n",
       "    </tr>\n",
       "    <tr>\n",
       "      <th>4</th>\n",
       "      <td>9023</td>\n",
       "      <td>2150.0</td>\n",
       "      <td>2016-08-11</td>\n",
       "      <td>0010-0277</td>\n",
       "      <td>4110.0</td>\n",
       "      <td>https://www.biomedcentral.com/getpublished/art...</td>\n",
       "      <td>1.0</td>\n",
       "    </tr>\n",
       "    <tr>\n",
       "      <th>...</th>\n",
       "      <td>...</td>\n",
       "      <td>...</td>\n",
       "      <td>...</td>\n",
       "      <td>...</td>\n",
       "      <td>...</td>\n",
       "      <td>...</td>\n",
       "      <td>...</td>\n",
       "    </tr>\n",
       "    <tr>\n",
       "      <th>5179</th>\n",
       "      <td>15442</td>\n",
       "      <td>0.0</td>\n",
       "      <td>2017-03-03</td>\n",
       "      <td>2537-6276</td>\n",
       "      <td>4110.0</td>\n",
       "      <td>https://www.biomedcentral.com/getpublished/art...</td>\n",
       "      <td>1.0</td>\n",
       "    </tr>\n",
       "    <tr>\n",
       "      <th>5180</th>\n",
       "      <td>14989</td>\n",
       "      <td>0.0</td>\n",
       "      <td>2016-12-27</td>\n",
       "      <td>2540-7767</td>\n",
       "      <td>4110.0</td>\n",
       "      <td>https://www.biomedcentral.com/getpublished/art...</td>\n",
       "      <td>1.0</td>\n",
       "    </tr>\n",
       "    <tr>\n",
       "      <th>5181</th>\n",
       "      <td>14232</td>\n",
       "      <td>0.0</td>\n",
       "      <td>2016-12-27</td>\n",
       "      <td>2540-7929</td>\n",
       "      <td>4110.0</td>\n",
       "      <td>https://www.biomedcentral.com/getpublished/art...</td>\n",
       "      <td>1.0</td>\n",
       "    </tr>\n",
       "    <tr>\n",
       "      <th>5182</th>\n",
       "      <td>15341</td>\n",
       "      <td>0.0</td>\n",
       "      <td>2017-03-06</td>\n",
       "      <td>2540-8232</td>\n",
       "      <td>4110.0</td>\n",
       "      <td>https://www.biomedcentral.com/getpublished/art...</td>\n",
       "      <td>1.0</td>\n",
       "    </tr>\n",
       "    <tr>\n",
       "      <th>5183</th>\n",
       "      <td>9011</td>\n",
       "      <td>2150.0</td>\n",
       "      <td>2016-08-11</td>\n",
       "      <td>8756-3282</td>\n",
       "      <td>4110.0</td>\n",
       "      <td>https://www.biomedcentral.com/getpublished/art...</td>\n",
       "      <td>1.0</td>\n",
       "    </tr>\n",
       "  </tbody>\n",
       "</table>\n",
       "<p>5184 rows × 7 columns</p>\n",
       "</div>"
      ],
      "text/plain": [
       "         id   price  ...                                                url license\n",
       "0      9424     0.0  ...  https://www.biomedcentral.com/getpublished/art...     1.0\n",
       "1     16021  3000.0  ...  https://www.biomedcentral.com/getpublished/art...     1.0\n",
       "2     16030  3100.0  ...  https://www.biomedcentral.com/getpublished/art...     1.0\n",
       "3     16117  3500.0  ...  https://www.biomedcentral.com/getpublished/art...     1.0\n",
       "4      9023  2150.0  ...  https://www.biomedcentral.com/getpublished/art...     1.0\n",
       "...     ...     ...  ...                                                ...     ...\n",
       "5179  15442     0.0  ...  https://www.biomedcentral.com/getpublished/art...     1.0\n",
       "5180  14989     0.0  ...  https://www.biomedcentral.com/getpublished/art...     1.0\n",
       "5181  14232     0.0  ...  https://www.biomedcentral.com/getpublished/art...     1.0\n",
       "5182  15341     0.0  ...  https://www.biomedcentral.com/getpublished/art...     1.0\n",
       "5183   9011  2150.0  ...  https://www.biomedcentral.com/getpublished/art...     1.0\n",
       "\n",
       "[5184 rows x 7 columns]"
      ]
     },
     "execution_count": 57,
     "metadata": {
      "tags": []
     },
     "output_type": "execute_result"
    }
   ],
   "source": [
    "temp_pr"
   ]
  },
  {
   "cell_type": "code",
   "execution_count": 0,
   "metadata": {
    "colab": {},
    "colab_type": "code",
    "id": "avLNXUIcpOg6"
   },
   "outputs": [],
   "source": [
    "#Change the data type of license and influence id to integer since ids can't be float\n",
    "temp_pr[['influence_id','license']]=temp_pr[['influence_id','license']].astype(int)"
   ]
  },
  {
   "cell_type": "code",
   "execution_count": 59,
   "metadata": {
    "colab": {
     "base_uri": "https://localhost:8080/",
     "height": 419
    },
    "colab_type": "code",
    "id": "7VxYAFi-q3mh",
    "outputId": "3d8982e7-9018-4c87-f17b-a99b5f3c5e29"
   },
   "outputs": [
    {
     "data": {
      "text/html": [
       "<div>\n",
       "<style scoped>\n",
       "    .dataframe tbody tr th:only-of-type {\n",
       "        vertical-align: middle;\n",
       "    }\n",
       "\n",
       "    .dataframe tbody tr th {\n",
       "        vertical-align: top;\n",
       "    }\n",
       "\n",
       "    .dataframe thead th {\n",
       "        text-align: right;\n",
       "    }\n",
       "</style>\n",
       "<table border=\"1\" class=\"dataframe\">\n",
       "  <thead>\n",
       "    <tr style=\"text-align: right;\">\n",
       "      <th></th>\n",
       "      <th>id</th>\n",
       "      <th>price</th>\n",
       "      <th>date_stamp</th>\n",
       "      <th>journal_id</th>\n",
       "      <th>influence_id</th>\n",
       "      <th>url</th>\n",
       "      <th>license</th>\n",
       "    </tr>\n",
       "  </thead>\n",
       "  <tbody>\n",
       "    <tr>\n",
       "      <th>0</th>\n",
       "      <td>9424</td>\n",
       "      <td>0.0</td>\n",
       "      <td>2012-01-01</td>\n",
       "      <td>0003-0090</td>\n",
       "      <td>4480</td>\n",
       "      <td>https://www.biomedcentral.com/getpublished/art...</td>\n",
       "      <td>1</td>\n",
       "    </tr>\n",
       "    <tr>\n",
       "      <th>1</th>\n",
       "      <td>16021</td>\n",
       "      <td>3000.0</td>\n",
       "      <td>2017-05-22</td>\n",
       "      <td>0003-5521</td>\n",
       "      <td>4110</td>\n",
       "      <td>https://www.biomedcentral.com/getpublished/art...</td>\n",
       "      <td>1</td>\n",
       "    </tr>\n",
       "    <tr>\n",
       "      <th>2</th>\n",
       "      <td>16030</td>\n",
       "      <td>3100.0</td>\n",
       "      <td>2017-05-22</td>\n",
       "      <td>0005-1098</td>\n",
       "      <td>4110</td>\n",
       "      <td>https://www.biomedcentral.com/getpublished/art...</td>\n",
       "      <td>1</td>\n",
       "    </tr>\n",
       "    <tr>\n",
       "      <th>3</th>\n",
       "      <td>16117</td>\n",
       "      <td>3500.0</td>\n",
       "      <td>2017-05-22</td>\n",
       "      <td>0008-6223</td>\n",
       "      <td>4110</td>\n",
       "      <td>https://www.biomedcentral.com/getpublished/art...</td>\n",
       "      <td>1</td>\n",
       "    </tr>\n",
       "    <tr>\n",
       "      <th>4</th>\n",
       "      <td>9023</td>\n",
       "      <td>2150.0</td>\n",
       "      <td>2016-08-11</td>\n",
       "      <td>0010-0277</td>\n",
       "      <td>4110</td>\n",
       "      <td>https://www.biomedcentral.com/getpublished/art...</td>\n",
       "      <td>1</td>\n",
       "    </tr>\n",
       "    <tr>\n",
       "      <th>...</th>\n",
       "      <td>...</td>\n",
       "      <td>...</td>\n",
       "      <td>...</td>\n",
       "      <td>...</td>\n",
       "      <td>...</td>\n",
       "      <td>...</td>\n",
       "      <td>...</td>\n",
       "    </tr>\n",
       "    <tr>\n",
       "      <th>5179</th>\n",
       "      <td>15442</td>\n",
       "      <td>0.0</td>\n",
       "      <td>2017-03-03</td>\n",
       "      <td>2537-6276</td>\n",
       "      <td>4110</td>\n",
       "      <td>https://www.biomedcentral.com/getpublished/art...</td>\n",
       "      <td>1</td>\n",
       "    </tr>\n",
       "    <tr>\n",
       "      <th>5180</th>\n",
       "      <td>14989</td>\n",
       "      <td>0.0</td>\n",
       "      <td>2016-12-27</td>\n",
       "      <td>2540-7767</td>\n",
       "      <td>4110</td>\n",
       "      <td>https://www.biomedcentral.com/getpublished/art...</td>\n",
       "      <td>1</td>\n",
       "    </tr>\n",
       "    <tr>\n",
       "      <th>5181</th>\n",
       "      <td>14232</td>\n",
       "      <td>0.0</td>\n",
       "      <td>2016-12-27</td>\n",
       "      <td>2540-7929</td>\n",
       "      <td>4110</td>\n",
       "      <td>https://www.biomedcentral.com/getpublished/art...</td>\n",
       "      <td>1</td>\n",
       "    </tr>\n",
       "    <tr>\n",
       "      <th>5182</th>\n",
       "      <td>15341</td>\n",
       "      <td>0.0</td>\n",
       "      <td>2017-03-06</td>\n",
       "      <td>2540-8232</td>\n",
       "      <td>4110</td>\n",
       "      <td>https://www.biomedcentral.com/getpublished/art...</td>\n",
       "      <td>1</td>\n",
       "    </tr>\n",
       "    <tr>\n",
       "      <th>5183</th>\n",
       "      <td>9011</td>\n",
       "      <td>2150.0</td>\n",
       "      <td>2016-08-11</td>\n",
       "      <td>8756-3282</td>\n",
       "      <td>4110</td>\n",
       "      <td>https://www.biomedcentral.com/getpublished/art...</td>\n",
       "      <td>1</td>\n",
       "    </tr>\n",
       "  </tbody>\n",
       "</table>\n",
       "<p>5184 rows × 7 columns</p>\n",
       "</div>"
      ],
      "text/plain": [
       "         id   price  ...                                                url license\n",
       "0      9424     0.0  ...  https://www.biomedcentral.com/getpublished/art...       1\n",
       "1     16021  3000.0  ...  https://www.biomedcentral.com/getpublished/art...       1\n",
       "2     16030  3100.0  ...  https://www.biomedcentral.com/getpublished/art...       1\n",
       "3     16117  3500.0  ...  https://www.biomedcentral.com/getpublished/art...       1\n",
       "4      9023  2150.0  ...  https://www.biomedcentral.com/getpublished/art...       1\n",
       "...     ...     ...  ...                                                ...     ...\n",
       "5179  15442     0.0  ...  https://www.biomedcentral.com/getpublished/art...       1\n",
       "5180  14989     0.0  ...  https://www.biomedcentral.com/getpublished/art...       1\n",
       "5181  14232     0.0  ...  https://www.biomedcentral.com/getpublished/art...       1\n",
       "5182  15341     0.0  ...  https://www.biomedcentral.com/getpublished/art...       1\n",
       "5183   9011  2150.0  ...  https://www.biomedcentral.com/getpublished/art...       1\n",
       "\n",
       "[5184 rows x 7 columns]"
      ]
     },
     "execution_count": 59,
     "metadata": {
      "tags": []
     },
     "output_type": "execute_result"
    }
   ],
   "source": [
    "temp_pr"
   ]
  },
  {
   "cell_type": "code",
   "execution_count": 0,
   "metadata": {
    "colab": {},
    "colab_type": "code",
    "id": "wqsWE2aOq5zU"
   },
   "outputs": [],
   "source": [
    "#Export cleaned csv file\n",
    "temp_pr.to_csv(\"Price_cleaned.csv\",index=False)  "
   ]
  }
 ],
 "metadata": {
  "colab": {
   "collapsed_sections": [],
   "name": "Data_Cleaning.ipynb",
   "provenance": []
  },
  "kernelspec": {
   "display_name": "Python 3",
   "language": "python",
   "name": "python3"
  },
  "language_info": {
   "codemirror_mode": {
    "name": "ipython",
    "version": 3
   },
   "file_extension": ".py",
   "mimetype": "text/x-python",
   "name": "python",
   "nbconvert_exporter": "python",
   "pygments_lexer": "ipython3",
   "version": "3.9.5"
  }
 },
 "nbformat": 4,
 "nbformat_minor": 1
}
