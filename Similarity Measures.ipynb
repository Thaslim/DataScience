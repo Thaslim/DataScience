{
 "cells": [
  {
   "cell_type": "markdown",
   "metadata": {
    "colab_type": "text",
    "id": "mlNBxUQe59zS"
   },
   "source": [
    "In this activity we will be looking at how the different distance measure diff.\n",
    "\n",
    "Here's a short summary of all of the distance measures:\n",
    "\n",
    "**Euclidean** Given two points in the form $(x,y)$ we can compute\n",
    "$\\sqrt{(x_1 -x_2)^2+(y_1-y_2)^2)}$\n",
    "\n",
    "---\n",
    "\n",
    "**Manhattan:** Distance between two points is the sum of the absolute differences in their Cartesian coordinates.\n",
    "![alt text](https://upload.wikimedia.org/wikipedia/commons/thumb/0/08/Manhattan_distance.svg/283px-Manhattan_distance.svg.png)\n",
    "\n",
    "---\n",
    "\n",
    "**Chebyshev:** The distance between two vectors is the greatest of their differences along any coordinate dimension.\n",
    "![](https://www.kdnuggets.com/wp-content/uploads/chebyshev-distance-chessboard.jpg)\n",
    "\n",
    "---\n",
    "\n",
    "**Canberra**: Used for comparing ranked lists and for intrusion detection in computer security.\n",
    "$d({\\bf p},{\\bf q})=\\sum^n_{i=1}{\\frac{|p_i-q_i|}{|p_i|+|q_i|}}$\n",
    "\n",
    "where ${\\bf p}$ and ${\\bf q}$ are vectors.\n",
    "\n",
    "---\n",
    "\n",
    "**Cosine**: Similarity between two non-zero vectorss of an inner product space that measures the cosine of the angle between them.\n",
    "\n",
    " * cosine 0$^\\circ$ is 1.\n",
    " * It is a judgement of orientation and not magnitude.\n",
    "\n"
   ]
  },
  {
   "cell_type": "code",
   "execution_count": 0,
   "metadata": {
    "colab": {},
    "colab_type": "code",
    "id": "XmssnXyHDbce"
   },
   "outputs": [],
   "source": [
    "import scipy.spatial.distance as dist\n",
    "import numpy as np"
   ]
  },
  {
   "cell_type": "markdown",
   "metadata": {
    "colab_type": "text",
    "id": "hc6y4BzBDKFF"
   },
   "source": [
    "Begin the activity by initializing two random vectors with 10 dimensions (use np.random).\n",
    "\n",
    "\n",
    "Next using the `dist` module apply each of the distance metrics discussed above."
   ]
  },
  {
   "cell_type": "code",
   "execution_count": 0,
   "metadata": {
    "colab": {
     "base_uri": "https://localhost:8080/",
     "height": 476
    },
    "colab_type": "code",
    "id": "W25yyBxz5geL",
    "outputId": "d94fc275-8d12-4902-f06f-b68bb546ccee"
   },
   "outputs": [
    {
     "name": "stdout",
     "output_type": "stream",
     "text": [
      "\n",
      "2 10-dimensional vectors\n",
      "------------------------\n",
      "[[8.66384712 4.72726184 1.54265761 6.31285923 5.48103724 0.43744585\n",
      "  0.99102183 1.11605574 6.31051381 5.58001585]]\n",
      "[[1.66403905 3.8734393  4.64248601 4.89104562 2.89919603 7.49578772\n",
      "  2.50847024 4.51447111 5.23018206 1.72459163]]\n",
      "\n",
      "Distance measurements with 10-dimensional vectors\n",
      "-------------------------------------------------\n",
      "\n",
      "Euclidean distance is 12.154266717673437\n",
      "Manhattan distance is 31.867075464986165\n",
      "Chebyshev distance is 7.058341870658279\n",
      "Canberra distance is 4.261520572716161\n",
      "Cosine distance is 0.3390871181008167\n",
      "Mahalanobis distance is 4.197582980391878\n",
      "\n",
      "Distance measurements with 100-dimensional vectors\n",
      "--------------------------------------------------\n",
      "\n",
      "Euclidean distance is 41.41668286558069\n",
      "Manhattan distance is 334.0679107500733\n",
      "Chebyshev distance is 8.673711062597544\n",
      "Canberra distance is 35.697287385535304\n",
      "Cosine distance is 0.2422302746405105\n",
      "Mahalanobis distance is 15.363936735974413\n"
     ]
    }
   ],
   "source": [
    "\n",
    "# Prepare 2 vectors (data points) of 10 dimensions.\n",
    "# Let data range randomly from 0 to 10\n",
    "A = np.random.uniform(low=0, high=10,size=(1,10))\n",
    "B = np.random.uniform(low=0, high=10,size=(1,10))\n",
    "\n",
    "# Generate a matrix of size 1000x10\n",
    "# Let data range randomly from 0 to 10\n",
    "z = np.random.uniform(low=0, high=10,size=(1000,10))\n",
    "\n",
    "# compute the covariance of the transpose for matrix above\n",
    "covariance = np.cov(z.T)\n",
    "# finally compute the inverse\n",
    "inverse = np.linalg.inv(covariance)\n",
    "\n",
    "print('\\n2 10-dimensional vectors')\n",
    "print('------------------------')\n",
    "print(A)\n",
    "print(B)\n",
    "\n",
    "# Perform distance measurements \n",
    "print( '\\nDistance measurements with 10-dimensional vectors')\n",
    "print( '-------------------------------------------------')\n",
    "# Replace INSERT CODE HERE \n",
    "print( '\\nEuclidean distance is',dist.euclidean(A, B))\n",
    "print( 'Manhattan distance is',  dist.cityblock(A, B))\n",
    "print( 'Chebyshev distance is',  dist.chebyshev(A, B))\n",
    "print( 'Canberra distance is',   dist.canberra(A, B))\n",
    "print( 'Cosine distance is',     dist.cosine(A, B))\n",
    "print( 'Mahalanobis distance is',dist.mahalanobis(A, B, inverse))\n",
    "\n",
    "# Prepare 2 vectors (data points) of 100 dimensions.\n",
    "# Let data range randomly from 0 to 10\n",
    "C = np.random.uniform(low=0, high=10,size=(1,100))\n",
    "D = np.random.uniform(low=0, high=10,size=(1,100))\n",
    "\n",
    "# Generate a matrix of size 1000x100\n",
    "# Let data range randomly from 0 to 10\n",
    "E = np.random.uniform(low=0, high=10,size=(1000,100))\n",
    "\n",
    "# compute the covariance of the transpose for matrix above\n",
    "cov_E = np.cov(E.T)\n",
    "# finally compute the inverse\n",
    "inv_E = np.linalg.inv(cov_E)\n",
    "\n",
    "# Perform distance measurements\n",
    "print('\\nDistance measurements with 100-dimensional vectors')\n",
    "print('--------------------------------------------------')\n",
    "print( '\\nEuclidean distance is',dist.euclidean(C, D))\n",
    "print( 'Manhattan distance is',  dist.cityblock(C, D))\n",
    "print( 'Chebyshev distance is',  dist.chebyshev(C, D))\n",
    "print( 'Canberra distance is',   dist.canberra(C, D))\n",
    "print( 'Cosine distance is',     dist.cosine(C, D))\n",
    "print( 'Mahalanobis distance is',dist.mahalanobis(C, D, inv_E))\n"
   ]
  },
  {
   "cell_type": "markdown",
   "metadata": {
    "colab_type": "text",
    "id": "5TjKrt4vOsyQ"
   },
   "source": [
    "Similarly, as above but this time prepare two vectors of 100 dimensions.\n",
    "\n",
    "1. Write a short statment why is cosine the smallest distance?\n",
    "\n",
    "2.  Does anything change as the number of dimension increases? If so what distance is the most affected.\n"
   ]
  },
  {
   "cell_type": "markdown",
   "metadata": {
    "colab_type": "text",
    "id": "GvvvBquYC5pq"
   },
   "source": [
    "**1. Write a short statment why is cosine the smallest distance?**\n",
    "\n",
    "Cosine similarity measures the angle between two vectros regardless the magnitude, if the cosine similarity is close to 1, the angle is very small which means there is a good match between two vectors. In our case the cosine similarity is very less because the two vectors are random."
   ]
  },
  {
   "cell_type": "markdown",
   "metadata": {
    "colab_type": "text",
    "id": "i-Gqwi5fKr1g"
   },
   "source": [
    "**2.  Does anything change as the number of dimension increases? If so what distance is the most affected.**\n",
    "\n",
    "Yes,if we observe the calculated distances, the distance increases as the number of dimension increases.Out of all other distance measures, Manhattan distance is affected the most because as mentioned in the definition the distance between two vectors is calculated by the sum of distance along each  dimension. So dimension plays a significant role in Chebyshev distance"
   ]
  },
  {
   "cell_type": "code",
   "execution_count": 0,
   "metadata": {
    "colab": {},
    "colab_type": "code",
    "id": "_iTyh8pHh0iX"
   },
   "outputs": [],
   "source": []
  }
 ],
 "metadata": {
  "colab": {
   "collapsed_sections": [],
   "name": "2.Similarity.ipynb",
   "provenance": []
  },
  "kernelspec": {
   "display_name": "Python 3",
   "language": "python",
   "name": "python3"
  },
  "language_info": {
   "codemirror_mode": {
    "name": "ipython",
    "version": 3
   },
   "file_extension": ".py",
   "mimetype": "text/x-python",
   "name": "python",
   "nbconvert_exporter": "python",
   "pygments_lexer": "ipython3",
   "version": "3.9.5"
  }
 },
 "nbformat": 4,
 "nbformat_minor": 1
}
