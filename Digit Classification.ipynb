{
 "cells": [
  {
   "cell_type": "markdown",
   "metadata": {},
   "source": [
    "# Digit Classification with (using MNIST Data set)"
   ]
  },
  {
   "cell_type": "code",
   "execution_count": 1,
   "metadata": {},
   "outputs": [],
   "source": [
    "#import tensorflow and other necessary libraries\n",
    "import tensorflow as tf\n",
    "from tensorflow import keras\n",
    "import numpy as np\n",
    "import matplotlib.pyplot as plt\n",
    "import skimage\n",
    "import skimage.io as io\n",
    "from skimage import util\n",
    "from skimage import transform"
   ]
  },
  {
   "cell_type": "code",
   "execution_count": 2,
   "metadata": {},
   "outputs": [],
   "source": [
    "#load mnist Dataset from keras API and split into train and test\n",
    "(x_train, y_train), (x_test, y_test) = tf.keras.datasets.mnist.load_data()"
   ]
  },
  {
   "cell_type": "markdown",
   "metadata": {},
   "source": [
    "# Explore the format of the dataset before training the model\n"
   ]
  },
  {
   "cell_type": "code",
   "execution_count": 3,
   "metadata": {},
   "outputs": [
    {
     "name": "stdout",
     "output_type": "stream",
     "text": [
      "60000\n",
      "10000\n",
      "(60000, 28, 28)\n",
      "uint8\n",
      "5\n"
     ]
    }
   ],
   "source": [
    "#Number of images in testing and training test\n",
    "print(len(x_train))\n",
    "print(len(x_test))\n",
    "#Dimensions of data\n",
    "print(x_train.shape)\n",
    "#Type of data\n",
    "print(x_train.dtype)\n",
    "print(y_train[0])"
   ]
  },
  {
   "cell_type": "code",
   "execution_count": 4,
   "metadata": {},
   "outputs": [
    {
     "data": {
      "image/png": "[encoded data removed]",
      "text/plain": [
       "<Figure size 432x288 with 4 Axes>"
      ]
     },
     "metadata": {},
     "output_type": "display_data"
    }
   ],
   "source": [
    "#display few random images from the training set.\n",
    "rand_im = [300, 2250, 3650, 4000]\n",
    "\n",
    "for i in range(len(rand_im)):\n",
    "    plt.subplot(1,4,i+1)\n",
    "    plt.xticks([])\n",
    "    plt.yticks([])\n",
    "    plt.imshow(x_train[rand_im[i]], cmap=\"gray\")\n",
    "plt.show()"
   ]
  },
  {
   "cell_type": "markdown",
   "metadata": {},
   "source": [
    "# Preprocessing the data"
   ]
  },
  {
   "cell_type": "code",
   "execution_count": 5,
   "metadata": {},
   "outputs": [],
   "source": [
    "#Flatten images before training\n",
    "x_tr_flat = x_train.reshape(60000, 784)\n",
    "x_te_flat = x_test.reshape(10000, 784)\n",
    "#change datatype from uint8 to float32 and scale it between 0 and 1\n",
    "x_tr_flat = x_tr_flat.astype('float32') / 255.0\n",
    "x_te_flat = x_te_flat.astype('float32') / 255.0\n",
    "#convert array of labeled data to one-hot vector.\n",
    "y_train = tf.keras.utils.to_categorical(y_train, 10)\n",
    "y_test = tf.keras.utils.to_categorical(y_test, 10)"
   ]
  },
  {
   "cell_type": "code",
   "execution_count": 6,
   "metadata": {},
   "outputs": [
    {
     "name": "stdout",
     "output_type": "stream",
     "text": [
      "(60000, 784)\n",
      "(10000, 784)\n",
      "(10000, 10)\n",
      "float32\n",
      "[0. 0. 0. 0. 0. 1. 0. 0. 0. 0.]\n"
     ]
    }
   ],
   "source": [
    "#explore the data after pre-processing \n",
    "print(x_tr_flat.shape)\n",
    "print(x_te_flat.shape)\n",
    "print(y_test.shape)\n",
    "print(x_tr_flat.dtype)\n",
    "print(y_train[0])"
   ]
  },
  {
   "cell_type": "markdown",
   "metadata": {},
   "source": [
    "# Building the neural network"
   ]
  },
  {
   "cell_type": "code",
   "execution_count": 8,
   "metadata": {},
   "outputs": [],
   "source": [
    "#Define a tensor as placeholders to feed values later\n",
    "x = tf.placeholder(tf.float32, [None, 784])\n",
    "y_ = tf.placeholder(tf.float32, [None,10])"
   ]
  },
  {
   "cell_type": "code",
   "execution_count": 9,
   "metadata": {},
   "outputs": [],
   "source": [
    "#Declare variables for weight and bias\n",
    "W = tf.Variable(tf.zeros([784, 10]))\n",
    "b = tf.Variable(tf.zeros([10]))\n",
    "#implement the model\n",
    "y = tf.nn.softmax((tf.matmul(x, W) + b))"
   ]
  },
  {
   "cell_type": "code",
   "execution_count": 10,
   "metadata": {},
   "outputs": [],
   "source": [
    "#implement the cost function\n",
    "cross_entropy = tf.reduce_mean(-tf.reduce_sum(y_ * tf.log(y), reduction_indices=[1]))"
   ]
  },
  {
   "cell_type": "code",
   "execution_count": 11,
   "metadata": {},
   "outputs": [],
   "source": [
    "#optimization function\n",
    "train_op = tf.train.AdamOptimizer().minimize(cross_entropy)"
   ]
  },
  {
   "cell_type": "markdown",
   "metadata": {},
   "source": [
    "# Training the network"
   ]
  },
  {
   "cell_type": "code",
   "execution_count": 12,
   "metadata": {},
   "outputs": [
    {
     "name": "stdout",
     "output_type": "stream",
     "text": [
      "loss at step 0: 2.3025989532470703\n",
      "loss at step 100: 0.6389413475990295\n",
      "loss at step 200: 0.4619087874889374\n",
      "loss at step 300: 0.39445775747299194\n",
      "loss at step 400: 0.35786184668540955\n",
      "loss at step 500: 0.334479421377182\n"
     ]
    }
   ],
   "source": [
    "#train the neural network , run 500 epochs\n",
    "sess = tf.Session()\n",
    "sess.run(tf.global_variables_initializer())\n",
    "for i in range(501):\n",
    "    _,loss=sess.run([train_op,cross_entropy], feed_dict={x: x_tr_flat,y_ :y_train})\n",
    "    if i % 100 == 0:\n",
    "        print(\"loss at step {0}: {1}\".format(i, loss))\n",
    "    "
   ]
  },
  {
   "cell_type": "code",
   "execution_count": 13,
   "metadata": {},
   "outputs": [],
   "source": [
    "#Define correct prediction\n",
    "correct_prediction = tf.equal(tf.argmax(y,1), tf.argmax(y_,1))\n",
    "#define accuracy\n",
    "accuracy = tf.reduce_mean(tf.cast(correct_prediction, tf.float32))"
   ]
  },
  {
   "cell_type": "code",
   "execution_count": 14,
   "metadata": {},
   "outputs": [
    {
     "name": "stdout",
     "output_type": "stream",
     "text": [
      "0.91181666\n"
     ]
    }
   ],
   "source": [
    "#calculate accuracy for training dataset\n",
    "print(sess.run(accuracy, feed_dict={x: x_tr_flat, y_: y_train}))"
   ]
  },
  {
   "cell_type": "code",
   "execution_count": 15,
   "metadata": {},
   "outputs": [
    {
     "name": "stdout",
     "output_type": "stream",
     "text": [
      "0.9137\n"
     ]
    }
   ],
   "source": [
    "#calculate accuracy for testing dataset\n",
    "print(sess.run(accuracy, feed_dict={x: x_te_flat, y_:y_test}))"
   ]
  },
  {
   "cell_type": "markdown",
   "metadata": {},
   "source": [
    "# Evaluating the model"
   ]
  },
  {
   "cell_type": "code",
   "execution_count": 16,
   "metadata": {},
   "outputs": [
    {
     "data": {
      "image/png": "[encoded data removed]",
      "text/plain": [
       "<Figure size 576x576 with 5 Axes>"
      ]
     },
     "metadata": {
      "needs_background": "light"
     },
     "output_type": "display_data"
    }
   ],
   "source": [
    "#To evaluate the model, Pick 5 random images from test dataset\n",
    "sample_indexes = [5,50,500,5000,5600]\n",
    "sample_images = [x_te_flat[i] for i in sample_indexes]\n",
    "sample_labels = [y_test[i] for i in sample_indexes]\n",
    "#predict the label, feed the sample images\n",
    "pred = sess.run(tf.argmax(y, 1), feed_dict={x: sample_images})\n",
    "predicted=np.squeeze(pred)                     \n",
    "\n",
    "# Display the predictions and the actual label.\n",
    "fig = plt.figure(figsize=(8, 8))\n",
    "for i in range(len(sample_images)):\n",
    "    truth = sample_labels[i]\n",
    "    prediction = predicted[i]\n",
    "    plt.subplot(5,1,1+i)\n",
    "    plt.axis('off')\n",
    "    color='green' if np.argmax(truth) == prediction else 'red'\n",
    "    plt.text(40, 10, \"Truth:        {0}\\nPrediction: {1}\".format(np.argmax(truth), prediction), \n",
    "             fontsize=12, color=color)\n",
    "    plt.imshow(x_test[sample_indexes[i]],  cmap=\"gray\")\n",
    "\n",
    "plt.show()"
   ]
  },
  {
   "cell_type": "markdown",
   "metadata": {},
   "source": [
    "# Testing a new image (my own handwriting)"
   ]
  },
  {
   "cell_type": "code",
   "execution_count": 17,
   "metadata": {},
   "outputs": [],
   "source": [
    "#Import image from local space\n",
    "img_2=skimage.data.imread('/home/thasleem/my_samples/two.jpeg')\n",
    "#convert to grayscale\n",
    "img_2=img_2[:,:,0]\n",
    "#invert the image \n",
    "resize_2=util.invert(img_2)\n",
    "#resize it to 28*28\n",
    "r_image_2=([transform.resize(resize_2, (28,28))])\n",
    "#Flatten the image to 1D\n",
    "resized_img_2=np.array(r_image_2).reshape(1,784)"
   ]
  },
  {
   "cell_type": "code",
   "execution_count": 18,
   "metadata": {},
   "outputs": [
    {
     "data": {
      "image/png": "[encoded data removed]",
      "text/plain": [
       "<Figure size 216x216 with 1 Axes>"
      ]
     },
     "metadata": {
      "needs_background": "light"
     },
     "output_type": "display_data"
    }
   ],
   "source": [
    "#predict the label, feed a sigle image\n",
    "pred = sess.run(tf.argmax(y, 1), feed_dict={x:resized_img_2})\n",
    "predicted=np.squeeze(pred) \n",
    "\n",
    "# Display the predictions and the actual label.\n",
    "fig = plt.figure(figsize=(3, 3))\n",
    "plt.axis('off')\n",
    "color='green' if 2 == predicted else 'red'\n",
    "plt.imshow(resize_2,  cmap=\"gray\")\n",
    "plt.text(10, 10, \"Truth:        {0}\\nPrediction: {1}\".format(2, predicted),fontsize=20, color=color)\n",
    "plt.show()"
   ]
  },
  {
   "cell_type": "code",
   "execution_count": null,
   "metadata": {},
   "outputs": [],
   "source": []
  },
  {
   "cell_type": "code",
   "execution_count": null,
   "metadata": {},
   "outputs": [],
   "source": []
  },
  {
   "cell_type": "code",
   "execution_count": null,
   "metadata": {},
   "outputs": [],
   "source": []
  }
 ],
 "metadata": {
  "kernelspec": {
   "display_name": "Python 3",
   "language": "python",
   "name": "python3"
  },
  "language_info": {
   "codemirror_mode": {
    "name": "ipython",
    "version": 3
   },
   "file_extension": ".py",
   "mimetype": "text/x-python",
   "name": "python",
   "nbconvert_exporter": "python",
   "pygments_lexer": "ipython3",
   "version": "3.9.5"
  }
 },
 "nbformat": 4,
 "nbformat_minor": 2
}
